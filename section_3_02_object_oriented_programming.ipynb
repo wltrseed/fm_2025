{
  "cells": [
    {
      "cell_type": "markdown",
      "metadata": {
        "id": "5tFeJ3wdDFf3"
      },
      "source": [
        "##### Объектно-Ориентированное Программирование (ООП)"
      ]
    },
    {
      "cell_type": "code",
      "execution_count": 39,
      "metadata": {
        "id": "NuxVDTrDDFf4"
      },
      "outputs": [],
      "source": [
        "'''\n",
        "    Ссылка на документацию: https://docs.python.org/3/tutorial/classes.html\n",
        "    Обычно в контексте ООП говорят о классах, наследовании, инкапсуляции и полиморфизме.\n",
        "    Так что основной объект, с которым необходимо уметь работать -- это класс.\n",
        "\n",
        "    Первый принцип ООП, инкапсуляция, - это принцип объектно-ориентированного программирования,\n",
        "        который заключается в скрытии деталей реализации от внешнего мира и предоставлении интерфейса\n",
        "        для взаимодействия с объектом.\n",
        "\n",
        "        @ Нейро (яндекс)\n",
        "\n",
        "'''\n",
        "\n",
        "import datetime\n",
        "from abc import ABC, abstractmethod\n",
        "from typing import override\n",
        "\n",
        "# создаем абстрактный класс опциона\n",
        "'''\n",
        "\n",
        "'''\n",
        "class Option(ABC):\n",
        "    # самый первый dunder метод, который все используют и иногда не знают, что это он и есть\n",
        "    def __init__(\n",
        "        self,\n",
        "        price: float,\n",
        "        strike: float,\n",
        "        expiration_date: str,\n",
        "        name: str = 'Abstract Option'\n",
        "    ) -> None:\n",
        "        super().__init__()\n",
        "        assert strike > 0, 'Strike must be positive! Got {strike}'\n",
        "        self.name = name\n",
        "        self.price = price\n",
        "        self.strike = strike\n",
        "        self.expiration_date = expiration_date\n",
        "\n",
        "    # этот dunder метод позволяет представлять объект класса в удобочитаемой форме\n",
        "    def __repr__(self) -> str:\n",
        "        return f'{self.name}. Strike = {self.strike}. Expiration date = {self.expiration_date}'\n",
        "\n",
        "    # используем декоратор, который не позволит инстанциировать асбтрактный класс\n",
        "    # пример инкапсуляции -- мы описываем, как рассчитывается выплата по опциону,\n",
        "    # но для внешнего пользователя логика этой операции скрыта и он только использует предоставляемый ему метод get_payoff\n",
        "    @abstractmethod\n",
        "    def get_payoff(self, expiration_price: float) -> float:\n",
        "        # этот метод должен быть имплементирован в дочерних классах\n",
        "        pass\n",
        "\n",
        "'''\n",
        "    Второй принцип, наследование, - это один из ключевых принципов объектно-ориентированного программирования,\n",
        "        который позволяет создавать новые классы на основе уже существующих.\n",
        "\n",
        "        @ Нейро (яндекс)\n",
        "'''\n",
        "\n",
        "class EuropeanCallOption(Option): # наследуем все самое лучшее от базового класса\n",
        "    def __init__(\n",
        "        self,\n",
        "        *args,\n",
        "        name='EuropeanCallOption',\n",
        "        **kwargs\n",
        "    ) -> None:\n",
        "        super().__init__(*args, name=name, **kwargs) # так что нам не нужно заново описывать поля и метод инстанциирования экземпляра\n",
        "\n",
        "    # но нужно переписать (override) абстрактный метод\n",
        "    # декоратор override в явном виде указывает, что этот метод переопределяет родительский\n",
        "    @override\n",
        "    def get_payoff(self, expiration_price: float) -> float:\n",
        "        return max(expiration_price - self.strike, 0)"
      ]
    },
    {
      "cell_type": "code",
      "execution_count": 40,
      "metadata": {
        "colab": {
          "base_uri": "https://localhost:8080/"
        },
        "id": "Y0QrRigeDFf5",
        "outputId": "875d701e-64b0-41d1-9f2f-5c33b7f4f2a1"
      },
      "outputs": [
        {
          "output_type": "execute_result",
          "data": {
            "text/plain": [
              "11"
            ]
          },
          "metadata": {},
          "execution_count": 40
        }
      ],
      "source": [
        "# a = Option(10, 100, '11') # ошибка TypeError\n",
        "b = EuropeanCallOption(10, 100, '11') # ok\n",
        "b.get_payoff(111)"
      ]
    },
    {
      "cell_type": "code",
      "execution_count": 41,
      "metadata": {
        "colab": {
          "base_uri": "https://localhost:8080/"
        },
        "id": "Qf3lhtqeDFf5",
        "outputId": "735f9829-e57b-42d4-ce19-5b5f2ed10e0c"
      },
      "outputs": [
        {
          "output_type": "stream",
          "name": "stdout",
          "text": [
            "{'name': 'EuropeanCallOption', 'price': 10, 'strike': 100, 'expiration_date': '11'}\n"
          ]
        }
      ],
      "source": [
        "'''\n",
        "    NAMESPACES\n",
        "    Пространство имен (namespace) -- это словарь, которые отображает имена переменных в объекты.\n",
        "    Пространства имен в python делятся на 3 группы по уровню вложенности:\n",
        "    1. Глобальное пространство имен\n",
        "    2. Промежуточное пространство имен\n",
        "    3. Локальное пространство имен\n",
        "\n",
        "    Глобальное пространство имен отображает объекты текущего модуля и всех импортированных модулей и подмодулей.\n",
        "    Промежеточное пространство имен отображает объекты внутри какой-то области (функции или класса),\n",
        "        которая является более глобальной по отношению к структуре, вложенной в текущую.\n",
        "    Локальное пространство имен -- это отображение для самой вложенной структуры\n",
        "\n",
        "    Структура пространств имен таким образом имеет вид:\n",
        "\n",
        "    global_namespace = {                                # глобальное пространство имен, включает структуры, которые имеют вложенность (т.е. другие пр-ва имен)\n",
        "        'global_object_name': global_object,\n",
        "        ...\n",
        "        'nonlocal_namespace': {                         # пространство имен следующего уровня вложенности, промежуточное пространство имен\n",
        "            'nonlocal_object_name': nonlocal_object,\n",
        "            ...\n",
        "            'local_namespace': {                        # локальное пространство имен, самая вложенная структура\n",
        "                'local_object_name': local_object,\n",
        "                ...\n",
        "            }\n",
        "        }\n",
        "    }\n",
        "\n",
        "    При обсуждении классов мы можем рассматривать их как некоторые структуры-контейнеры, которые имеют собственные пространства имен.\n",
        "    Чтобы получить доступ к пространству имен (к словарю), нужно вызвать свойство __dict__ модуля (класса)\n",
        "    Например:\n",
        "'''\n",
        "global_namespace = globals()\n",
        "eu_namespace = global_namespace['b'].__dict__\n",
        "print(eu_namespace)"
      ]
    },
    {
      "cell_type": "code",
      "execution_count": 42,
      "metadata": {
        "id": "ZklMqrYwDFf7"
      },
      "outputs": [],
      "source": [
        "from abc import ABC, abstractmethod\n",
        "from typing import Sequence, Iterator, Generator\n",
        "\n",
        "# опишем абстрактный актив, который можно включить в портфель\n",
        "# (мы могли бы его использовать как базовый класс для класса Option)\n",
        "class AbstractAsset(ABC):\n",
        "    def __init__(\n",
        "        self,\n",
        "        price: float,\n",
        "        name: str = 'AbstractAsset'\n",
        "    ) -> None:\n",
        "        self.price = price\n",
        "        self.name = name\n",
        "\n",
        "    def __repr__(self) -> str:\n",
        "        return f'{self.name}. Price = {self.price}'\n",
        "\n",
        "# dummy класс, который нужен только виртуально\n",
        "#  и будет переопределен\n",
        "class Portfolio:\n",
        "    pass\n",
        "\n",
        "class Portfolio(ABC):\n",
        "    PORTFOLIOS: int = 0  # счетчик, который будет отслеживать новые экземпляры\n",
        "\n",
        "    def __init__(\n",
        "        self,\n",
        "        assets: Sequence[AbstractAsset] = list(),\n",
        "        name: str = 'Portfolio'\n",
        "    ) -> None:\n",
        "        self.name = name\n",
        "        self.assets = assets\n",
        "        self.__price = self.price\n",
        "\n",
        "    # property -- свойство -- специальный декоратор, который дает возможность манипулировать аттрибутами класса до их возвращения или изменения\n",
        "    # в частности, как ниже, мы сначала рассчитываем стоимость портфеля как сумму его активов, прежде чем вернуть значение,\n",
        "    # так что каждый раз мы получаем обновленное актуальное значение по стоимости\n",
        "    @property\n",
        "    def price(self):\n",
        "        price = sum(asset.price for asset in self.assets) if len(self.assets) > 0 else 0\n",
        "        self.__price = price\n",
        "        return self.__price\n",
        "\n",
        "    # позволяет вычислять \"длину\" экземпляра класса\n",
        "    def __len__(self) -> int:\n",
        "        return len(self.assets)\n",
        "\n",
        "    # позволяет сделать из экземпляра итератор, для которого можно применить next(obj)\n",
        "    def __iter__(self) -> Generator:\n",
        "        return (asset for asset in self.assets)\n",
        "\n",
        "    # функция позволяет складывать объекты Portfolio\n",
        "    # и возвращает новый экземпляр класса\n",
        "    def __add__(self, other: Portfolio|AbstractAsset) -> Portfolio: # <- здесь был нужен определенный выше dummy class\n",
        "        if isinstance(other, Portfolio):\n",
        "            new_assets = self.assets + other.assets\n",
        "        elif isinstance(other, AbstractAsset):\n",
        "            new_assets = self.assets + [AbstractAsset]\n",
        "        else:\n",
        "            # если мы пытаемся сложить портфель с грушами, вероятно мы делаем что-то не то,\n",
        "            # надо об этом сообщить\n",
        "            raise TypeError('Нельзя складывать портфель с чем-то непонятным!')\n",
        "        # простоты ради (и эффективности!)\n",
        "        # мы можем создать экземпляр класса, распаковав словарь с помощью **\n",
        "        # и передав в конструктор все необходимые параметры, взятые из экземпляра донора,\n",
        "        # а не переписывать все поля вручную\n",
        "        kwargs = {\n",
        "            key: value for key, value in self.__dict__.items()\n",
        "            if not key.startswith('_')\n",
        "        }\n",
        "        kwargs.update(\n",
        "            {\n",
        "                'assets': new_assets\n",
        "            }\n",
        "        )\n",
        "        return Portfolio(\n",
        "            **kwargs\n",
        "        )\n",
        "\n"
      ]
    },
    {
      "cell_type": "code",
      "execution_count": 43,
      "metadata": {
        "id": "ys1A5qWeDFf6"
      },
      "outputs": [],
      "source": [
        "# ПРАКТИЧЕСКОЕ ЗАДАНИЕ 1: EuropeanPutOption\n",
        "# Реализуйте класс EuropeanPutOption, наследующий от Option\n",
        "# Payoff для put опциона: max(strike - expiration_price, 0)\n",
        "\n",
        "class EuropeanPutOption(Option):\n",
        "    def __init__(\n",
        "        self,\n",
        "        *args,\n",
        "        name='EuropeanPutOption',\n",
        "        **kwargs\n",
        "    ) -> None:\n",
        "        # TODO: Реализуйте конструктор\n",
        "        pass\n",
        "\n",
        "    @override\n",
        "    def get_payoff(self, expiration_price: float) -> float:\n",
        "        # TODO: Реализуйте расчет payoff для put опциона\n",
        "        pass\n",
        "\n",
        "# ПРАКТИЧЕСКОЕ ЗАДАНИЕ 2: Stock класс\n",
        "# Создайте класс Stock как наследник AbstractAsset\n",
        "\n",
        "class Stock(AbstractAsset):\n",
        "    def __init__(\n",
        "        self,\n",
        "        price: float,\n",
        "        symbol: str,\n",
        "        name: str = 'Stock'\n",
        "    ) -> None:\n",
        "        # TODO: Реализуйте конструктор\n",
        "        pass\n",
        "\n",
        "    def __repr__(self) -> str:\n",
        "        # TODO: Реализуйте красивый вывод\n",
        "        pass\n",
        "\n",
        "# ПРАКТИЧЕСКОЕ ЗАДАНИЕ 3: Portfolio.__repr__\n",
        "# Реализуйте метод __repr__ для класса Portfolio\n",
        "\n",
        "# TODO: Добавьте метод __repr__ в класс Portfolio\n",
        "# Пример вывода: \"Portfolio 'My Portfolio' (3 assets, total value: $150.00)\"\n"
      ]
    },
    {
      "cell_type": "code",
      "execution_count": 44,
      "metadata": {
        "colab": {
          "base_uri": "https://localhost:8080/",
          "height": 35
        },
        "id": "844BMKgGDFf6",
        "outputId": "543fba00-2b14-42ef-fa16-29412645a7d6"
      },
      "outputs": [
        {
          "output_type": "execute_result",
          "data": {
            "text/plain": [
              "'\\n    Задачи: имплементировать в виде классов производные финансовые инструменты\\n'"
            ],
            "application/vnd.google.colaboratory.intrinsic+json": {
              "type": "string"
            }
          },
          "metadata": {},
          "execution_count": 44
        }
      ],
      "source": [
        "'''\n",
        "    Задачи: имплементировать в виде классов производные финансовые инструменты\n",
        "'''"
      ]
    },
    {
      "cell_type": "markdown",
      "metadata": {
        "id": "TJ__J4mtDFf6"
      },
      "source": [
        "##### DUNDER МЕТОДЫ"
      ]
    },
    {
      "cell_type": "code",
      "execution_count": 45,
      "metadata": {
        "colab": {
          "base_uri": "https://localhost:8080/",
          "height": 87
        },
        "id": "LmV9SoSMDFf6",
        "outputId": "3c303496-c095-4dcf-f067-667e7ac088f9"
      },
      "outputs": [
        {
          "output_type": "execute_result",
          "data": {
            "text/plain": [
              "'\\n    Семантически dunder -- сокращение от dobule underscore (двойное подчеркивание).\\n    Синтаксически dunder -- это специальный метод из списка таких методов, который отличается двойным подчеркивание до и после своего имени.\\n    То есть __init__, __repr__, представленные выше это dunder методы. \\n    Эти методы позволяют объекту класса иметь специальные возможности.\\n    Например, __repr__ позволяет выводить экземпляр класса в удобочитаемой форме.\\n    Другие, например, __iter__ позволяет создавать итератор из экземпляра класса (iterator_object = iter(instance_of_my_class_with_iter_))\\n    Очень хорошая статья про dunder методы -- https://habr.com/ru/companies/timeweb/articles/876048/\\n'"
            ],
            "application/vnd.google.colaboratory.intrinsic+json": {
              "type": "string"
            }
          },
          "metadata": {},
          "execution_count": 45
        }
      ],
      "source": [
        "'''\n",
        "    Семантически dunder -- сокращение от dobule underscore (двойное подчеркивание).\n",
        "    Синтаксически dunder -- это специальный метод из списка таких методов, который отличается двойным подчеркивание до и после своего имени.\n",
        "    То есть __init__, __repr__, представленные выше это dunder методы.\n",
        "    Эти методы позволяют объекту класса иметь специальные возможности.\n",
        "    Например, __repr__ позволяет выводить экземпляр класса в удобочитаемой форме.\n",
        "    Другие, например, __iter__ позволяет создавать итератор из экземпляра класса (iterator_object = iter(instance_of_my_class_with_iter_))\n",
        "    Очень хорошая статья про dunder методы -- https://habr.com/ru/companies/timeweb/articles/876048/\n",
        "'''"
      ]
    },
    {
      "cell_type": "code",
      "execution_count": 46,
      "metadata": {
        "id": "i-4nCE84DFf7"
      },
      "outputs": [],
      "source": [
        "# пример со сложением деривативов (__add__). объект Portfolio, который можно складывать между экземплярами и отдельными инструментами,\n",
        "# со свойствами длины, получением по ключу, итерированием и т.д.\n",
        "# Задача: доделать что-то с ним"
      ]
    },
    {
      "cell_type": "code",
      "execution_count": 47,
      "metadata": {
        "id": "ovCiJOSbDFf8"
      },
      "outputs": [],
      "source": [
        "pf_1 = Portfolio([AbstractAsset(price=10), AbstractAsset(price=4)])\n",
        "pf_2 = Portfolio([AbstractAsset(price=12), AbstractAsset(price=-6)])\n",
        "pf_3 = pf_1 + pf_2"
      ]
    },
    {
      "cell_type": "code",
      "execution_count": 48,
      "metadata": {
        "colab": {
          "base_uri": "https://localhost:8080/"
        },
        "id": "xZUzU7baDFf8",
        "outputId": "23d2688c-006f-48ac-e374-5d2531398e4e"
      },
      "outputs": [
        {
          "output_type": "stream",
          "name": "stdout",
          "text": [
            "AbstractAsset. Price = 10\n",
            "4\n"
          ]
        }
      ],
      "source": [
        "assets_generator = iter(pf_3)\n",
        "print(next(assets_generator))\n",
        "print(len(pf_3))\n"
      ]
    },
    {
      "cell_type": "code",
      "execution_count": 49,
      "metadata": {
        "colab": {
          "base_uri": "https://localhost:8080/",
          "height": 35
        },
        "id": "O8UgRqs3DFf8",
        "outputId": "c3af72e1-4a45-412c-ec06-f56640076de6"
      },
      "outputs": [
        {
          "output_type": "execute_result",
          "data": {
            "text/plain": [
              "'\\n    Задача:\\n    написать метод __repr__,\\n    написать производный от Portfolio, класс AlphaPortfolio, содержаший объект Alpha\\n    (ее тоже имплементировать, пока как абстрактную)\\n'"
            ],
            "application/vnd.google.colaboratory.intrinsic+json": {
              "type": "string"
            }
          },
          "metadata": {},
          "execution_count": 49
        }
      ],
      "source": [
        "'''\n",
        "    Задача:\n",
        "    написать метод __repr__,\n",
        "    написать производный от Portfolio, класс AlphaPortfolio, содержаший объект Alpha\n",
        "    (ее тоже имплементировать, пока как абстрактную)\n",
        "'''"
      ]
    },
    {
      "cell_type": "markdown",
      "metadata": {
        "id": "IGlnTNmIDFf8"
      },
      "source": [
        "##### ЗАДАЧИ ДЛЯ ПРАКТИКИ ООП\n",
        "\n",
        "**1. БАЗОВЫЕ ФИНАНСОВЫЕ ИНСТРУМЕНТЫ:**\n",
        "- Реализуйте класс `EuropeanPutOption`, наследующий от `Option`\n",
        "- Реализуйте класс `AmericanCallOption` с возможностью досрочного исполнения\n",
        "- Добавьте валидацию даты истечения в базовый класс `Option`\n",
        "- Создайте класс `Stock` (акция) как наследник `AbstractAsset`\n",
        "\n",
        "**2. РАСШИРЕННЫЕ ОПЦИОНЫ:**\n",
        "- Реализуйте класс `BinaryOption` (бинарный опцион)\n",
        "- Создайте класс `BarrierOption` (барьерный опцион)\n",
        "- Добавьте метод расчета Greeks (дельта, гамма, тета, вега) для опционов\n",
        "\n",
        "**3. ПОРТФЕЛЬ И УПРАВЛЕНИЕ АКТИВАМИ:**\n",
        "- Реализуйте метод `__repr__` для класса `Portfolio`\n",
        "- Добавьте метод `__getitem__` для доступа к активам по индексу\n",
        "- Реализуйте метод `__contains__` для проверки наличия актива в портфеле\n",
        "- Добавьте метод `remove_asset` для удаления актива из портфеля\n",
        "- Создайте метод `calculate_portfolio_risk` для расчета риска портфеля\n",
        "\n",
        "**4. АЛЬФА-СТРАТЕГИИ:**\n",
        "- Реализуйте абстрактный класс `Alpha`\n",
        "- Создайте класс `AlphaPortfolio`, наследующий от `Portfolio`\n",
        "- Добавьте методы для расчета альфа-коэффициента и бета-коэффициента\n",
        "- Реализуйте класс `MomentumAlpha` и `MeanReversionAlpha`\n",
        "\n",
        "**5. ДОПОЛНИТЕЛЬНЫЕ DUNDER МЕТОДЫ:**\n",
        "- Добавьте `__eq__`, `__lt__`, `__le__` для сравнения портфелей\n",
        "- Реализуйте `__mul__` для умножения портфеля на число (масштабирование)\n",
        "- Добавьте `__str__` для красивого вывода портфеля\n",
        "- Реализуйте `__bool__` для проверки, является ли портфель пустым\n",
        "\n",
        "**6. ПРОДВИНУТЫЕ ЗАДАЧИ:**\n",
        "- Создайте декоратор `@validate_option_params` для валидации параметров опционов\n",
        "- Реализуйте класс `PortfolioManager` с методами для управления несколькими портфелями\n",
        "- Добавьте поддержку сериализации/десериализации портфелей (pickle)\n",
        "- Создайте контекстный менеджер для временного изменения параметров портфеля\n"
      ]
    },
    {
      "cell_type": "code",
      "source": [
        "# 1. БАЗОВЫЕ ФИНАНСОВЫЕ ИНСТРУМЕНТЫ\n",
        "\n",
        "class EuropeanPutOption(Option):\n",
        "    def __init__(self, *args, name='EuropeanPutOption', **kwargs):\n",
        "        super().__init__(*args, name=name, **kwargs)\n",
        "\n",
        "    def get_payoff(self, expiration_price: float) -> float:\n",
        "        return max(self.strike - expiration_price, 0)\n",
        "\n",
        "class AmericanCallOption(Option):\n",
        "    def __init__(self, *args, name='AmericanCallOption', **kwargs):\n",
        "        super().__init__(*args, name=name, **kwargs)\n",
        "\n",
        "    def get_payoff(self, expiration_price: float) -> float:\n",
        "        return max(expiration_price - self.strike, 0)\n",
        "\n",
        "    def can_exercise_early(self, current_price: float) -> bool:\n",
        "        return current_price > self.strike\n",
        "\n",
        "class Stock(AbstractAsset):\n",
        "    def __init__(self, price: float, symbol: str, name: str = 'Stock'):\n",
        "        super().__init__(price, name)\n",
        "        self.symbol = symbol\n",
        "\n",
        "    def __repr__(self) -> str:\n",
        "        return f\"Stock('{self.symbol}', ${self.price:.2f})\"\n",
        "\n",
        "class Option:\n",
        "    def __init__(self, strike: float, expiration_date: str, name: str = 'Option'):\n",
        "        self.strike = strike\n",
        "        self.name = name\n",
        "        self._validate_expiration_date(expiration_date)\n",
        "        self.expiration_date = expiration_date\n",
        "\n",
        "    def _validate_expiration_date(self, date: str):\n",
        "        # простая валидация формата даты\n",
        "        if len(date) != 10 or date[4] != '-' or date[7] != '-':\n",
        "            raise ValueError(\"Дата должна быть в формате YYYY-MM-DD\")"
      ],
      "metadata": {
        "id": "wPv_HpJPIO97"
      },
      "execution_count": 50,
      "outputs": []
    },
    {
      "cell_type": "code",
      "source": [
        "# 2. РАСШИРЕННЫЕ ОПЦИОНЫ\n",
        "\n",
        "class BinaryOption(Option):\n",
        "    def __init__(self, strike: float, expiration_date: str, payout: float = 100):\n",
        "        super().__init__(strike, expiration_date, 'BinaryOption')\n",
        "        self.payout = payout\n",
        "\n",
        "    def get_payoff(self, expiration_price: float) -> float:\n",
        "        if expiration_price >= self.strike:\n",
        "            return self.payout\n",
        "        return 0\n",
        "\n",
        "class BarrierOption(Option):\n",
        "    def __init__(self, strike: float, expiration_date: str, barrier: float, option_type: str = 'up-and-out'):\n",
        "        super().__init__(strike, expiration_date, 'BarrierOption')\n",
        "        self.barrier = barrier\n",
        "        self.option_type = option_type\n",
        "\n",
        "    def get_payoff(self, expiration_price: float, max_price: float, min_price: float) -> float:\n",
        "        if self.option_type == 'up-and-out':\n",
        "            if max_price >= self.barrier:\n",
        "                return 0\n",
        "            return max(expiration_price - self.strike, 0)\n",
        "        return 0\n",
        "\n",
        "class OptionWithGreeks(Option):\n",
        "    def calculate_delta(self, spot_price: float, time_to_expiry: float) -> float:\n",
        "        # Упрощенный расчет дельты\n",
        "        return (spot_price - self.strike) / (self.strike * 10)\n",
        "\n",
        "    def calculate_gamma(self, spot_price: float) -> float:\n",
        "        return 0.01\n",
        "\n",
        "    def calculate_theta(self, time_to_expiry: float) -> float:\n",
        "        return -0.05\n",
        "\n",
        "    def calculate_vega(self, volatility: float) -> float:\n",
        "        return volatility * 0.1"
      ],
      "metadata": {
        "id": "Ptp3QvtTISjE"
      },
      "execution_count": 51,
      "outputs": []
    },
    {
      "cell_type": "code",
      "source": [
        "# 3. ПОРТФЕЛЬ И УПРАВЛЕНИЕ АКТИВАМИ\n",
        "\n",
        "class Portfolio:\n",
        "    def __init__(self, name: str = \"My Portfolio\"):\n",
        "        self.name = name\n",
        "        self.assets = []\n",
        "\n",
        "    def __repr__(self) -> str:\n",
        "        total_value = sum(asset.price for asset in self.assets)\n",
        "        return f\"Portfolio '{self.name}' ({len(self.assets)} assets, total value: ${total_value:.2f})\"\n",
        "\n",
        "    def __getitem__(self, index):\n",
        "        return self.assets[index]\n",
        "\n",
        "    def __contains__(self, asset):\n",
        "        return asset in self.assets\n",
        "\n",
        "    def __len__(self):\n",
        "        return len(self.assets)\n",
        "\n",
        "    def add_asset(self, asset):\n",
        "        self.assets.append(asset)\n",
        "\n",
        "    def remove_asset(self, asset):\n",
        "        if asset in self.assets:\n",
        "            self.assets.remove(asset)\n",
        "            return True\n",
        "        return False\n",
        "\n",
        "    def calculate_portfolio_risk(self) -> float:\n",
        "        if not self.assets:\n",
        "            return 0.0\n",
        "\n",
        "        total_value = sum(asset.price for asset in self.assets)\n",
        "        if total_value == 0:\n",
        "            return 0.0\n",
        "\n",
        "        risk = 0.0\n",
        "        for asset in self.assets:\n",
        "            weight = asset.price / total_value\n",
        "            # предполагаем, что более дорогие активы более волатильны\n",
        "            asset_risk = min(asset.price * 0.1, 0.3)  # макс 30% риска\n",
        "            risk += weight * asset_risk\n",
        "\n",
        "        return risk"
      ],
      "metadata": {
        "id": "lR2EP_n5Ielm"
      },
      "execution_count": 52,
      "outputs": []
    },
    {
      "cell_type": "code",
      "source": [
        "# 4. АЛЬФА-СТРАТЕГИИ\n",
        "\n",
        "from abc import ABC, abstractmethod\n",
        "\n",
        "class Alpha(ABC):\n",
        "    @abstractmethod\n",
        "    def calculate_alpha(self, portfolio) -> float:\n",
        "        pass\n",
        "\n",
        "class AlphaPortfolio(Portfolio):\n",
        "    def calculate_alpha_coefficient(self, market_return: float) -> float:\n",
        "        # расчет альфа-коэффициента\n",
        "        portfolio_return = self.calculate_portfolio_return()\n",
        "        beta = self.calculate_beta_coefficient()\n",
        "        return portfolio_return - (beta * market_return)\n",
        "\n",
        "    def calculate_beta_coefficient(self) -> float:\n",
        "        # расчет бета-коэффициента\n",
        "        if not self.assets:\n",
        "            return 1.0\n",
        "        # Предполагаем, что портфель следует за рынком\n",
        "        return 1.0\n",
        "\n",
        "    def calculate_portfolio_return(self) -> float:\n",
        "        # расчет доходности\n",
        "        if not self.assets:\n",
        "            return 0.0\n",
        "        total_value = sum(asset.price for asset in self.assets)\n",
        "        return total_value * 0.05  # 5% доходность\n",
        "\n",
        "class MomentumAlpha(Alpha):\n",
        "    def calculate_alpha(self, portfolio) -> float:\n",
        "        # стратегия моментума\n",
        "        if len(portfolio) < 2:\n",
        "            return 0.0\n",
        "        # больше активов - выше альфа\n",
        "        return len(portfolio) * 0.01\n",
        "\n",
        "class MeanReversionAlpha(Alpha):\n",
        "    def calculate_alpha(self, portfolio) -> float:\n",
        "        # стратегия возврата к среднему\n",
        "        if not portfolio.assets:\n",
        "            return 0.0\n",
        "        # выше риск - выше потенциальная альфа\n",
        "        risk = portfolio.calculate_portfolio_risk()\n",
        "        return risk * 0.5"
      ],
      "metadata": {
        "id": "nuF1Xo0CIjcZ"
      },
      "execution_count": 53,
      "outputs": []
    },
    {
      "cell_type": "code",
      "source": [
        "# 5. ДОПОЛНИТЕЛЬНЫЕ DUNDER МЕТОДЫ\n",
        "\n",
        "class EnhancedPortfolio(Portfolio):\n",
        "    def __eq__(self, other):\n",
        "        if not isinstance(other, Portfolio):\n",
        "            return False\n",
        "        return (self.name == other.name and\n",
        "                len(self.assets) == len(other.assets))\n",
        "\n",
        "    def __lt__(self, other):\n",
        "        if not isinstance(other, Portfolio):\n",
        "            return NotImplemented\n",
        "        return (sum(a.price for a in self.assets) <\n",
        "                sum(a.price for a in other.assets))\n",
        "\n",
        "    def __le__(self, other):\n",
        "        return self.__lt__(other) or self.__eq__(other)\n",
        "\n",
        "    def __mul__(self, factor):\n",
        "        # новый портфель с масштабированными ценами\n",
        "        new_portfolio = EnhancedPortfolio(f\"{self.name} (scaled)\")\n",
        "        for asset in self.assets:\n",
        "            # новый актив с измененной ценой\n",
        "            scaled_asset = type(asset)(asset.price * factor, getattr(asset, 'symbol', 'SCALED'))\n",
        "            new_portfolio.add_asset(scaled_asset)\n",
        "        return new_portfolio\n",
        "\n",
        "    def __rmul__(self, factor):\n",
        "        return self.__mul__(factor)\n",
        "\n",
        "    def __str__(self):\n",
        "        total_value = sum(asset.price for asset in self.assets)\n",
        "        assets_list = \"\\n\".join([f\"  - {asset}\" for asset in self.assets])\n",
        "        return f\"Портфель: {self.name}\\nАктивы ({len(self.assets)}):\\n{assets_list}\\nОбщая стоимость: ${total_value:.2f}\"\n",
        "\n",
        "    def __bool__(self):\n",
        "        return len(self.assets) > 0"
      ],
      "metadata": {
        "id": "qqzsPZ0xIuwY"
      },
      "execution_count": 54,
      "outputs": []
    },
    {
      "cell_type": "code",
      "source": [
        "# 6. ПРОДВИНУТЫЕ ЗАДАЧИ\n",
        "\n",
        "from functools import wraps\n",
        "import pickle\n",
        "\n",
        "# декоратор для валидации параметров опционов\n",
        "def validate_option_params(func):\n",
        "    @wraps(func)\n",
        "    def wrapper(strike, expiration_date, *args, **kwargs):\n",
        "        if strike <= 0:\n",
        "            raise ValueError(\"Цена страйк должна быть положительной\")\n",
        "        if len(expiration_date) != 10 or expiration_date[4] != '-' or expiration_date[7] != '-':\n",
        "            raise ValueError(\"Дата должна быть в формате YYYY-MM-DD\")\n",
        "        return func(strike, expiration_date, *args, **kwargs)\n",
        "    return wrapper\n",
        "\n",
        "class PortfolioManager:\n",
        "    def __init__(self):\n",
        "        self.portfolios = {}\n",
        "\n",
        "    def add_portfolio(self, name: str, portfolio: Portfolio):\n",
        "        self.portfolios[name] = portfolio\n",
        "\n",
        "    def get_portfolio(self, name: str) -> Portfolio:\n",
        "        return self.portfolios.get(name)\n",
        "\n",
        "    def remove_portfolio(self, name: str):\n",
        "        if name in self.portfolios:\n",
        "            del self.portfolios[name]\n",
        "\n",
        "    def get_total_value(self) -> float:\n",
        "        return sum(sum(asset.price for asset in portfolio.assets)\n",
        "                  for portfolio in self.portfolios.values())\n",
        "\n",
        "    def save_portfolio(self, name: str, filename: str):\n",
        "        if name in self.portfolios:\n",
        "            with open(filename, 'wb') as f:\n",
        "                pickle.dump(self.portfolios[name], f)\n",
        "\n",
        "    def load_portfolio(self, filename: str, name: str):\n",
        "        with open(filename, 'rb') as f:\n",
        "            portfolio = pickle.load(f)\n",
        "            self.portfolios[name] = portfolio\n",
        "\n",
        "# контекстный менеджер для временного изменения портфеля\n",
        "class TemporaryPortfolioChange:\n",
        "    def __init__(self, portfolio, temp_assets):\n",
        "        self.portfolio = portfolio\n",
        "        self.temp_assets = temp_assets\n",
        "        self.original_assets = None\n",
        "\n",
        "    def __enter__(self):\n",
        "        self.original_assets = self.portfolio.assets.copy()\n",
        "        self.portfolio.assets = self.temp_assets\n",
        "        return self.portfolio\n",
        "\n",
        "    def __exit__(self, exc_type, exc_val, exc_tb):\n",
        "        self.portfolio.assets = self.original_assets\n",
        "\n",
        "# тестовые активы\n",
        "apple = Stock(150.0, \"AAPL\")\n",
        "google = Stock(2800.0, \"GOOGL\")\n",
        "\n",
        "portfolio = EnhancedPortfolio(\"Тестовый портфель\")\n",
        "portfolio.add_asset(apple)\n",
        "portfolio.add_asset(google)\n",
        "\n",
        "print(portfolio)\n",
        "print(f\"Риск портфеля: {portfolio.calculate_portfolio_risk():.2%}\")\n",
        "\n",
        "doubled_portfolio = portfolio * 2\n",
        "print(f\"\\nУдвоенный портфель: {doubled_portfolio}\")"
      ],
      "metadata": {
        "colab": {
          "base_uri": "https://localhost:8080/"
        },
        "id": "6mDktYW-I0Xw",
        "outputId": "657250c9-e72f-4bf0-ad6d-ba9ff453ec94"
      },
      "execution_count": 55,
      "outputs": [
        {
          "output_type": "stream",
          "name": "stdout",
          "text": [
            "Портфель: Тестовый портфель\n",
            "Активы (2):\n",
            "  - Stock('AAPL', $150.00)\n",
            "  - Stock('GOOGL', $2800.00)\n",
            "Общая стоимость: $2950.00\n",
            "Риск портфеля: 30.00%\n",
            "\n",
            "Удвоенный портфель: Портфель: Тестовый портфель (scaled)\n",
            "Активы (2):\n",
            "  - Stock('AAPL', $300.00)\n",
            "  - Stock('GOOGL', $5600.00)\n",
            "Общая стоимость: $5900.00\n"
          ]
        }
      ]
    },
    {
      "cell_type": "code",
      "execution_count": 56,
      "metadata": {
        "vscode": {
          "languageId": "plaintext"
        },
        "id": "4LacqqS6DFf8"
      },
      "outputs": [],
      "source": [
        "# ПРАКТИЧЕСКОЕ ЗАДАНИЕ 4: Дополнительные dunder методы для Portfolio\n",
        "# Реализуйте методы для улучшения функциональности Portfolio\n",
        "\n",
        "# TODO: Добавьте в класс Portfolio следующие методы:\n",
        "\n",
        "# 1. __getitem__ - доступ к активам по индексу\n",
        "# portfolio[0] должен возвращать первый актив\n",
        "# portfolio[1:3] должен возвращать срез активов\n",
        "\n",
        "# 2. __contains__ - проверка наличия актива\n",
        "# asset in portfolio должно возвращать True/False\n",
        "\n",
        "# 3. __eq__ - сравнение портфелей\n",
        "# portfolio1 == portfolio2 должно сравнивать по стоимости\n",
        "\n",
        "# 4. __mul__ - умножение на число (масштабирование)\n",
        "# portfolio * 2 должно создавать новый портфель с удвоенными ценами\n",
        "\n",
        "# 5. __str__ - красивый вывод для пользователя\n",
        "# str(portfolio) должен показывать детальную информацию\n",
        "\n",
        "# 6. __bool__ - проверка на пустоту\n",
        "# bool(portfolio) должно возвращать False для пустого портфеля\n",
        "\n",
        "# Пример использования:\n",
        "# pf = Portfolio([Stock(100, 'AAPL'), Stock(200, 'GOOGL')])\n",
        "# print(pf[0])           # Stock('AAPL', Price = 100)\n",
        "# print(Stock(100, 'AAPL') in pf)  # True\n",
        "# print(pf == pf * 1)    # True\n",
        "# print(pf * 2)          # Новый портфель с удвоенными ценами\n",
        "# print(str(pf))         # Красивый вывод\n",
        "# print(bool(pf))        # True (не пустой)\n"
      ]
    },
    {
      "cell_type": "code",
      "execution_count": 57,
      "metadata": {
        "vscode": {
          "languageId": "plaintext"
        },
        "id": "oVvCOk1EDFf9"
      },
      "outputs": [],
      "source": [
        "# ПРАКТИЧЕСКОЕ ЗАДАНИЕ 5: Alpha стратегии\n",
        "# Реализуйте систему альфа-стратегий для портфеля\n",
        "\n",
        "from abc import ABC, abstractmethod\n",
        "from typing import List, Dict, Any\n",
        "import numpy as np\n",
        "\n",
        "# TODO: Реализуйте абстрактный класс Alpha\n",
        "class Alpha(ABC):\n",
        "    def __init__(self, name: str = 'Alpha'):\n",
        "        # TODO: Реализуйте конструктор\n",
        "        pass\n",
        "\n",
        "    @abstractmethod\n",
        "    def calculate_alpha(self, returns: List[float], market_returns: List[float]) -> float:\n",
        "        # TODO: Реализуйте абстрактный метод расчета альфы\n",
        "        pass\n",
        "\n",
        "    def __repr__(self) -> str:\n",
        "        # TODO: Реализуйте вывод\n",
        "        pass\n",
        "\n",
        "# TODO: Реализуйте класс MomentumAlpha\n",
        "class MomentumAlpha(Alpha):\n",
        "    def __init__(self, lookback_period: int = 20, name: str = 'MomentumAlpha'):\n",
        "        # TODO: Реализуйте конструктор\n",
        "        pass\n",
        "\n",
        "    def calculate_alpha(self, returns: List[float], market_returns: List[float]) -> float:\n",
        "        # TODO: Реализуйте расчет альфы на основе моментума\n",
        "        # Альфа = средняя доходность за период - бета * средняя рыночная доходность\n",
        "        pass\n",
        "\n",
        "# TODO: Реализуйте класс MeanReversionAlpha\n",
        "class MeanReversionAlpha(Alpha):\n",
        "    def __init__(self, reversion_threshold: float = 0.02, name: str = 'MeanReversionAlpha'):\n",
        "        # TODO: Реализуйте конструктор\n",
        "        pass\n",
        "\n",
        "    def calculate_alpha(self, returns: List[float], market_returns: List[float]) -> float:\n",
        "        # TODO: Реализуйте расчет альфы на основе возврата к среднему\n",
        "        pass\n",
        "\n",
        "# TODO: Реализуйте класс AlphaPortfolio\n",
        "class AlphaPortfolio(Portfolio):\n",
        "    def __init__(\n",
        "        self,\n",
        "        assets: List[AbstractAsset] = None,\n",
        "        alpha_strategy: Alpha = None,\n",
        "        name: str = 'AlphaPortfolio'\n",
        "    ):\n",
        "        # TODO: Реализуйте конструктор\n",
        "        pass\n",
        "\n",
        "    def calculate_portfolio_alpha(self, market_returns: List[float]) -> float:\n",
        "        # TODO: Реализуйте расчет альфы портфеля\n",
        "        pass\n",
        "\n",
        "    def calculate_beta(self, market_returns: List[float]) -> float:\n",
        "        # TODO: Реализуйте расчет беты портфеля\n",
        "        pass\n",
        "\n",
        "    def get_risk_metrics(self, market_returns: List[float]) -> Dict[str, float]:\n",
        "        # TODO: Реализуйте расчет различных метрик риска\n",
        "        # Возвращайте словарь с ключами: 'alpha', 'beta', 'sharpe_ratio', 'volatility'\n",
        "        pass\n"
      ]
    },
    {
      "cell_type": "code",
      "execution_count": 58,
      "metadata": {
        "vscode": {
          "languageId": "plaintext"
        },
        "id": "M3Ps_z-QDFf9"
      },
      "outputs": [],
      "source": [
        "# ПРАКТИЧЕСКОЕ ЗАДАНИЕ 6: Продвинутые техники ООП\n",
        "\n",
        "# TODO: Реализуйте декоратор для валидации параметров опционов\n",
        "def validate_option_params(func):\n",
        "    \"\"\"\n",
        "    Декоратор для валидации параметров опционов.\n",
        "    Проверяет, что price > 0, strike > 0, expiration_date не в прошлом\n",
        "    \"\"\"\n",
        "    def wrapper(self, price, strike, expiration_date, *args, **kwargs):\n",
        "        # TODO: Добавьте валидацию\n",
        "        # - price > 0\n",
        "        # - strike > 0\n",
        "        # - expiration_date не в прошлом (используйте datetime)\n",
        "        pass\n",
        "    return wrapper\n",
        "\n",
        "# TODO: Реализуйте класс PortfolioManager\n",
        "class PortfolioManager:\n",
        "    \"\"\"\n",
        "    Менеджер для управления несколькими портфелями\n",
        "    \"\"\"\n",
        "    def __init__(self, name: str = 'PortfolioManager'):\n",
        "        # TODO: Реализуйте конструктор\n",
        "        # Должен содержать словарь портфелей и методы для управления\n",
        "        pass\n",
        "\n",
        "    def add_portfolio(self, portfolio: Portfolio, name: str = None) -> None:\n",
        "        # TODO: Добавьте портфель в менеджер\n",
        "        pass\n",
        "\n",
        "    def remove_portfolio(self, name: str) -> None:\n",
        "        # TODO: Удалите портфель из менеджера\n",
        "        pass\n",
        "\n",
        "    def get_portfolio(self, name: str) -> Portfolio:\n",
        "        # TODO: Получите портфель по имени\n",
        "        pass\n",
        "\n",
        "    def get_total_value(self) -> float:\n",
        "        # TODO: Рассчитайте общую стоимость всех портфелей\n",
        "        pass\n",
        "\n",
        "    def rebalance_portfolios(self, target_weights: Dict[str, float]) -> None:\n",
        "        # TODO: Ребалансируйте портфели согласно целевым весам\n",
        "        pass\n",
        "\n",
        "    def __repr__(self) -> str:\n",
        "        # TODO: Реализуйте красивый вывод менеджера\n",
        "        pass\n",
        "\n",
        "# TODO: Реализуйте контекстный менеджер для временного изменения параметров портфеля\n",
        "class PortfolioContext:\n",
        "    \"\"\"\n",
        "    Контекстный менеджер для временного изменения параметров портфеля\n",
        "    \"\"\"\n",
        "    def __init__(self, portfolio: Portfolio, **kwargs):\n",
        "        # TODO: Реализуйте конструктор\n",
        "        # kwargs должны содержать параметры для временного изменения\n",
        "        pass\n",
        "\n",
        "    def __enter__(self):\n",
        "        # TODO: Сохраните текущие параметры и примените новые\n",
        "        pass\n",
        "\n",
        "    def __exit__(self, exc_type, exc_val, exc_tb):\n",
        "        # TODO: Восстановите исходные параметры\n",
        "        pass\n",
        "\n",
        "# Пример использования контекстного менеджера:\n",
        "# with PortfolioContext(portfolio, name='Temporary Portfolio') as temp_portfolio:\n",
        "#     print(temp_portfolio.name)  # 'Temporary Portfolio'\n",
        "# print(portfolio.name)  # Исходное имя восстановлено\n"
      ]
    },
    {
      "cell_type": "code",
      "execution_count": 59,
      "metadata": {
        "vscode": {
          "languageId": "plaintext"
        },
        "id": "Z-Ve4_LdDFf9"
      },
      "outputs": [],
      "source": [
        "# ПРИМЕРЫ ТЕСТИРОВАНИЯ И ПОДСКАЗКИ\n",
        "\n",
        "# Тестирование EuropeanPutOption:\n",
        "# put_option = EuropeanPutOption(price=5, strike=100, expiration_date='2024-12-31')\n",
        "# print(put_option.get_payoff(90))  # Должно вернуть 10 (100-90)\n",
        "# print(put_option.get_payoff(110)) # Должно вернуть 0\n",
        "\n",
        "# Тестирование Stock:\n",
        "# apple_stock = Stock(price=150, symbol='AAPL', name='Apple Inc.')\n",
        "# print(apple_stock)  # Должно показать: Stock('AAPL', Price = 150)\n",
        "\n",
        "# Тестирование Portfolio с новыми методами:\n",
        "# pf = Portfolio([Stock(100, 'AAPL'), Stock(200, 'GOOGL')], name='Tech Portfolio')\n",
        "# print(pf[0])                    # Первый актив\n",
        "# print(Stock(100, 'AAPL') in pf) # True\n",
        "# print(pf == pf * 1)             # True\n",
        "# print(pf * 2)                   # Новый портфель с удвоенными ценами\n",
        "# print(str(pf))                  # Красивый вывод\n",
        "# print(bool(pf))                 # True\n",
        "\n",
        "# Тестирование Alpha стратегий:\n",
        "# momentum_alpha = MomentumAlpha(lookback_period=20)\n",
        "# returns = [0.01, 0.02, -0.01, 0.03, 0.01]\n",
        "# market_returns = [0.005, 0.015, -0.005, 0.025, 0.005]\n",
        "# alpha_value = momentum_alpha.calculate_alpha(returns, market_returns)\n",
        "\n",
        "# Тестирование AlphaPortfolio:\n",
        "# alpha_pf = AlphaPortfolio(\n",
        "#     assets=[Stock(100, 'AAPL'), Stock(200, 'GOOGL')],\n",
        "#     alpha_strategy=momentum_alpha,\n",
        "#     name='Alpha Tech Portfolio'\n",
        "# )\n",
        "# risk_metrics = alpha_pf.get_risk_metrics(market_returns)\n",
        "\n",
        "# Тестирование PortfolioManager:\n",
        "# manager = PortfolioManager('My Manager')\n",
        "# manager.add_portfolio(pf, 'tech_portfolio')\n",
        "# manager.add_portfolio(alpha_pf, 'alpha_portfolio')\n",
        "# total_value = manager.get_total_value()\n",
        "\n",
        "# ПОДСКАЗКИ ДЛЯ РЕАЛИЗАЦИИ:\n",
        "\n",
        "# 1. Для __getitem__ используйте return self.assets[index]\n",
        "# 2. Для __contains__ используйте return item in self.assets\n",
        "# 3. Для __eq__ сравнивайте self.price с other.price\n",
        "# 4. Для __mul__ создавайте новые активы с измененными ценами\n",
        "# 5. Для __str__ используйте f-строки для красивого форматирования\n",
        "# 6. Для __bool__ используйте return len(self.assets) > 0\n",
        "# 7. Для Alpha расчетов используйте numpy для статистических вычислений\n",
        "# 8. Для контекстного менеджера сохраняйте исходные значения в __enter__ и восстанавливайте в __exit__\n"
      ]
    }
  ],
  "metadata": {
    "kernelspec": {
      "display_name": "base",
      "language": "python",
      "name": "python3"
    },
    "language_info": {
      "codemirror_mode": {
        "name": "ipython",
        "version": 3
      },
      "file_extension": ".py",
      "mimetype": "text/x-python",
      "name": "python",
      "nbconvert_exporter": "python",
      "pygments_lexer": "ipython3",
      "version": "3.12.3"
    },
    "colab": {
      "provenance": []
    }
  },
  "nbformat": 4,
  "nbformat_minor": 0
}