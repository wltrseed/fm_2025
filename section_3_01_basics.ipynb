{
 "cells": [
  {
   "cell_type": "markdown",
   "metadata": {},
   "source": [
    "##### ОСНОВЫ PYTHON"
   ]
  },
  {
   "cell_type": "code",
   "execution_count": null,
   "metadata": {},
   "outputs": [],
   "source": [
    "'''\n",
    "    Вам будет предложено сейчас освоить все необходимые основы для программирования на языке Python.\n",
    "    После изученых базовых конструкций начнется их интенсивное освоение в виде множества задач, которые потребуют от вас их использования.\n",
    "    Снова напоминаем, что \n",
    "            абстракция        -- ваш главный инструмент при проектировании архитектуры кода.\n",
    "            строгая типизация -- ваш главный инструмент для объяснения кода и его интерфейса тем, кто впервые его видит.\n",
    "'''"
   ]
  },
  {
   "cell_type": "code",
   "execution_count": null,
   "metadata": {},
   "outputs": [],
   "source": [
    "'''\n",
    "    Как всегда наиболее подробно про основные выражения написано в документации:\n",
    "    https://docs.python.org/3/tutorial/controlflow.html\n",
    "'''"
   ]
  },
  {
   "cell_type": "markdown",
   "metadata": {},
   "source": [
    "##### УСЛОВНЫЙ ОПЕРАТОР"
   ]
  },
  {
   "cell_type": "code",
   "execution_count": 61,
   "metadata": {},
   "outputs": [
    {
     "name": "stdout",
     "output_type": "stream",
     "text": [
      "Правда ли, что 3 < 5 ?\n",
      "Да. Это же очевидно!\n",
      "\n",
      "Правда ли что a == b ?\n",
      "Да. Это было очевидно\n",
      "А вот то, что a == b, но это не b, не очень ожидаемо! Посмотрим их идентификаторы\n",
      "ID a = 140732208142840 \n",
      "ID b = 1441134536048 \n",
      "\n",
      "Еще раз, а и b. Имеют одинаковое численное значение\n",
      "python экономный, и не создает дубликат существующего объекта!\n",
      "1\n",
      "0\n",
      "Сработало 1 из 2 первых условий и 3е\n",
      "1 - 1 >= 0\n",
      "Not found\n"
     ]
    }
   ],
   "source": [
    "'''\n",
    "    Самая простая и понятная конструкция:\n",
    "\n",
    "        if condition 1:\n",
    "            do thing 1\n",
    "        elif condition 2:\n",
    "            do thing 2\n",
    "        ...\n",
    "        else:\n",
    "            do something else\n",
    "            \n",
    "    Вам необходим только if; elif, else -- опционально. \n",
    "    Главное предостережение: если объект создается внутри if условия, контролируйте, чтобы он был создан и вне его, если в дальнейшем ваш код использует этот объект\n",
    "    То есть создайте его внутри else\n",
    "'''\n",
    "\n",
    "print('Правда ли, что 3 < 5 ?')\n",
    "if 3 < 5:\n",
    "    print('Да. Это же очевидно!')\n",
    "elif 3 == 5:\n",
    "    print('Нет. Но такого не может быть!')\n",
    "else:\n",
    "    print('Нет. Кажется, действительность сломалась!')\n",
    "\n",
    "print()\n",
    "\n",
    "# но есть экзотические примеры\n",
    "a: int = 3\n",
    "b: float = 3.0\n",
    "print('Правда ли что a == b ?')\n",
    "if a == b:\n",
    "    print(\"Да. Это было очевидно\")\n",
    "if a is b:\n",
    "    print(\"Это тоже было очевидно\")\n",
    "else:\n",
    "    print('А вот то, что a == b, но это не b, не очень ожидаемо! Посмотрим их идентификаторы') # просто \"is\" сравнивает id объектов!\n",
    "\n",
    "print(\n",
    "    \"ID a =\", id(a), '\\n'\n",
    "    \"ID b =\", id(b), '\\n'\n",
    ")\n",
    "\n",
    "# но вот что\n",
    "a: int = 3\n",
    "b: int = 3\n",
    "print('Еще раз, а и b. Имеют одинаковое численное значение')\n",
    "if a is b:\n",
    "    print('python экономный, и не создает дубликат существующего объекта!')\n",
    "\n",
    "# что еще можно делать с if?\n",
    "\n",
    "# писать в одну строку, если есть только if и else\n",
    "print(1 if True else 0)\n",
    "print(1 if False else 0)\n",
    "\n",
    "# объединять несколько условий и писать вложенные\n",
    "if (3 > 5) or (3 < 5) and (1 < 10):\n",
    "    print('Сработало 1 из 2 первых условий и 3е')\n",
    "    if 1 - 1 < 0:\n",
    "        print('0 < 0')\n",
    "    else:\n",
    "        print('1 - 1 >= 0')\n",
    "\n",
    "# вкладывать в другие конструкции, но это будет далее"
   ]
  },
  {
   "cell_type": "code",
   "execution_count": 70,
   "metadata": {},
   "outputs": [
    {
     "name": "stdout",
     "output_type": "stream",
     "text": [
      "Not found\n",
      "Not allowed\n",
      "X=3\n",
      "Выбран красный!\n"
     ]
    }
   ],
   "source": [
    "\n",
    "# если у вас много if'ов, но их можно выразить перечислением объектов одного типа, то используйте match - case\n",
    "# примеры взяты из \n",
    "\n",
    "status = 404\n",
    "def http_error(status):\n",
    "    match status:\n",
    "        case 400:\n",
    "            return \"Bad request\"\n",
    "        case 404:\n",
    "            return \"Not found\"\n",
    "        case 418:\n",
    "            return \"I'm a teapot\"\n",
    "        case _:\n",
    "            return \"Something's wrong with the internet\"\n",
    "        \n",
    "my_status = 404\n",
    "print(http_error(status=my_status))\n",
    "\n",
    "# можно комбинировать несколько условий\n",
    "match 403:\n",
    "    case 401 | 403 | 404:\n",
    "        print(\"Not allowed\")\n",
    "\n",
    "# можно задавать произвольный объект, например, точку\n",
    "class Point:\n",
    "    def __init__(self, x: float, y: float):\n",
    "        self.x = x\n",
    "        self.y = y\n",
    "\n",
    "my_point: Point = Point(3, 0)\n",
    "\n",
    "match my_point:\n",
    "    case Point(x=0, y=0):\n",
    "        print(\"Origin\")\n",
    "    case Point(x=0, y=y): # обратите внимание, что можно маскировать часть переменных/аттрибутов и передавать их в структуру\n",
    "        print(f\"Y={y}\")\n",
    "    case Point(x=x, y=0):\n",
    "        print(f\"X={x}\")\n",
    "    case Point():\n",
    "        print(\"Somewhere else\")\n",
    "    case _:\n",
    "        print(\"Not a point\")\n",
    "\n",
    "# еще можно использовать специальный компактный класс Enum (==Enumerator)\n",
    "\n",
    "from enum import Enum\n",
    "class Color(Enum):\n",
    "    RED = 'красный'\n",
    "    GREEN = 'зеленый'\n",
    "    BLUE = 'синий'\n",
    "\n",
    "\n",
    "color = Color('красный') #Color(input(\"Выбери цвет 'красный', 'зеленый', 'синий': \"))\n",
    "\n",
    "match color:\n",
    "    case Color.RED:\n",
    "        print(\"Выбран красный!\")\n",
    "    case Color.GREEN:\n",
    "        print(\"Выбран зеленый!\")\n",
    "    case Color.BLUE:\n",
    "        print(\"Выбран синий!\")"
   ]
  },
  {
   "cell_type": "markdown",
   "metadata": {},
   "source": [
    "##### ЦИКЛЫ"
   ]
  },
  {
   "cell_type": "code",
   "execution_count": 73,
   "metadata": {},
   "outputs": [
    {
     "name": "stdout",
     "output_type": "stream",
     "text": [
      "deque([25, 36, 49, 64, 81], maxlen=5)\n",
      "0\n",
      "1\n",
      "4\n",
      "9\n",
      "16\n",
      "25\n",
      "36\n",
      "49\n",
      "64\n",
      "81\n",
      "fruits ('apple', 'banana', 'orange')\n",
      "vegetables ('potato', 'carrot', 'tomato')\n"
     ]
    }
   ],
   "source": [
    "'''\n",
    "    Самый базовый цикл строится с использованием конструкции for:\n",
    "\n",
    "        for Any in Iterable[Any]:\n",
    "            do_your_thing\n",
    "\n",
    "    -- и, как вы заметили, эта конструкция основана на перечислении объектов в некотором итерируемом объекте,\n",
    "    что отличается от аналогичной for-конструкции в С++, где итерируется некоторая арифметическая прогрессия.\n",
    "    for -- мощный инструмент, предназначенный не только для циклов.  \n",
    "'''\n",
    "my_range: range = range(0, 10, 1)\n",
    "for number in my_range:\n",
    "    # print(number)\n",
    "    pass\n",
    "\n",
    "# можно напрямую писать range, что является более общей практикой\n",
    "# шаблонный вариант:\n",
    "for i in range(10):\n",
    "    # print(i)\n",
    "    pass\n",
    "\n",
    "# ранее вы видели некоторую сложную конструкцию в одну строку с множеством вложений при выводе объектов библиотек\n",
    "# такой код возможен благодаря списковому включению (list comprehension) и возможности выполнять команды последовательно, \n",
    "# начиная с команды с самой большой глубиной вложенности\n",
    "# как это работает с конструкцией for?\n",
    "\n",
    "my_squares: list[int] = [i ** 2 for i in range(10)] # [0, 1, 4, 9,...]\n",
    "my_squares: list[int] = list((i ** 2 for i in range(10))) # <- эквивалентно конструкции выше, вообще говоря, мы преобразуем объект генератор (Generator) в список\n",
    "my_squares: tuple[int] = tuple((i ** 2 for i in range(10))) # получили, кортеж, неизменяемую структуру\n",
    "\n",
    "# for применим везде, где интерпретатор может его обработать, и ограничен разве что фантазией разработчика\n",
    "from collections import deque\n",
    "print(deque((i ** 2 for i in range(10)), maxlen=5))\n",
    "\n",
    "# кроме range можно использовать другие структуры:\n",
    "\n",
    "for squared_number in my_squares:\n",
    "    # print(squared_number)\n",
    "    pass\n",
    "\n",
    "# \"однострочный\" lifehack для конструкции выше, написанный в несколько строк, чтобы было понятно, что происходит внутри\n",
    "# начинаем с самой вложенной структуры: создали список строковых форматов квадратов, \n",
    "# преобразовали в строку с символами окончания строки(==переход на новую строку), распечатали\n",
    "# эту конструкцию можно написать в одну строку и она будет работать\n",
    "print(\n",
    "    '\\n'.join(\n",
    "        list(\n",
    "            str(squared_number) for squared_number in my_squares\n",
    "        )\n",
    "    )\n",
    ")\n",
    "\n",
    "# можно использовать для распаковки элементов словаря\n",
    "for key, value in dict(fruits=('apple', 'banana', 'orange'), vegetables=('potato', 'carrot', 'tomato')).items():\n",
    "    print(key, value)"
   ]
  },
  {
   "cell_type": "code",
   "execution_count": 4,
   "metadata": {},
   "outputs": [
    {
     "name": "stdout",
     "output_type": "stream",
     "text": [
      "Как минимум один раз это распечатается\n",
      "\n",
      "i = 0, num = 0\n",
      "i = 2, num = 4\n",
      "i = 4, num = 64\n",
      "i = 6, num = 4900\n",
      "i = 8, num = 24088464\n"
     ]
    }
   ],
   "source": [
    "'''\n",
    "    Следующая конструкция:\n",
    "\n",
    "    while condition:\n",
    "        do_something\n",
    "\n",
    "    Это цикл, выполняющийся до тех пор, пока истинно некоторое условие.\n",
    "    Вы можете обновлять это условие внутри тела цикла, иначе у вас будет бесконечный цикл, выйти из которого можно только при срабатывании \n",
    "        break выражения или, например, словив ошибку. Впрочем, во многих программах используются подобные бесконечные циклы,\n",
    "        когда вам нужно, например, обрабатывать приходящие запросы, чем бы они не были в вашем коде.\n",
    "'''\n",
    "\n",
    "while 1:\n",
    "    print('Как минимум один раз это распечатается\\n')\n",
    "    break # мы не будем исполняться вечно\n",
    "\n",
    "# кроме break вы можете использовать специальное выражение continue\n",
    "# его роль заключается в пропуске всей части кода после него внутри цикла или вложенной части кода\n",
    "# рассмотрим \"сложную\" конструкцию с вычислениями при удовлетворении условия\n",
    "# один вариант, написать if: 'куча вложенного кода', else: pass \n",
    "# другой вариант -- не усложнять иерархию кода\n",
    "num = 0\n",
    "for i in range(10):\n",
    "    if i % 2 != 0:\n",
    "        continue # пропускаем всю итерацию цикла\n",
    "    # if i % 2 != 0: continue -- так же работает в одну строку\n",
    "    num += i\n",
    "    num **= 2\n",
    "    print(f'i = {i}, num =', num)"
   ]
  },
  {
   "cell_type": "markdown",
   "metadata": {},
   "source": [
    "##### ОБРАБОТКА ОШИБОК"
   ]
  },
  {
   "cell_type": "code",
   "execution_count": 37,
   "metadata": {},
   "outputs": [
    {
     "name": "stdout",
     "output_type": "stream",
     "text": [
      "Поймана неопределенная ошибка!\n",
      "Поймана определенная ошибка. Это division by zero\n",
      "Поймана неопределенная ошибка. Это division by zero\n",
      "<class 'Exception'>\n",
      "my_exception\n",
      "('my_exception',)\n",
      "Другое исключение, имплементированное как класс\n",
      "<class '__main__.AnotherException'>\n",
      "<class '__main__.AnotherException'>\n",
      "Поймали деление на ноль\n",
      "Выше представлен результат деления\n"
     ]
    }
   ],
   "source": [
    "'''\n",
    "    Полезный инструмент, которым необходимо уметь пользоваться -- обработчики ошибок.\n",
    "    Обработчики ошибок отлавливают появляющиеся ошибки и либо прерывают код, либо вы обрабатываете их должным образом.\n",
    "    Конструкция выглядит следующим образом:\n",
    "\n",
    "    some_code\n",
    "    try:\n",
    "        do_something  -- внутри try блока находится потенциально ломающийся код\n",
    "    except Exception as e:\n",
    "        handle_exception\n",
    "\n",
    "    Почитать про названия ошибок и исключений: https://docs.python.org/3/library/exceptions.html\n",
    "    Про обработку исключений https://docs.python.org/3/tutorial/errors.html\n",
    "\n",
    "    \n",
    "'''\n",
    "\n",
    "# пример, где не используется конструкция и интерпретатор сам завершает исполнение с отслеживанием ошибки (Traceback)\n",
    "# print('1 / 0 =', 1 / 0) # ZeroDivisionError\n",
    "\n",
    "# пример, где мы поймали ошибку\n",
    "try:\n",
    "    print('1 / 0 =', 1 / 0)\n",
    "except: # без указания, что это за исключение вы не сможете получить информацию о нем\n",
    "    print('Поймана неопределенная ошибка!')\n",
    "\n",
    "# вы можете точно знать, что вы поймаете\n",
    "try:\n",
    "    print('1 / 0 =', 1 / 0)\n",
    "except ZeroDivisionError as error:\n",
    "    print(f'Поймана определенная ошибка. Это {error}')\n",
    "\n",
    "# вы можете не знать, что вы поймаете\n",
    "try:\n",
    "    print('1 / 0 =', 1 / 0)\n",
    "except Exception as error:\n",
    "    print(f'Поймана неопределенная ошибка. Это {error}')\n",
    "\n",
    "# можно поднимать свои исключения\n",
    "try:\n",
    "    # some code ...\n",
    "    raise Exception('my_exception') # можно закидывать другие аргументы\n",
    "except Exception as error:\n",
    "    print(type(error))\n",
    "    print(error)\n",
    "    print(error.args)\n",
    "\n",
    "# создадим свое исключение\n",
    "MyException = BaseException('MySimpleCustomException')\n",
    "MyException.add_note('Это исключение будет возникать при попытке разделить на ноль')\n",
    "\n",
    "from typing import Any\n",
    "class AnotherException(BaseException):\n",
    "    def __init__(self, *args, special_argument: Any, **kwargs) -> None:\n",
    "        super().__init__(*args, **kwargs)\n",
    "        self.my_special_argument = special_argument\n",
    "    \n",
    "    def my_special_method(self) -> Any:\n",
    "        print('Here we come!')\n",
    "        return self.my_special_argument\n",
    "\n",
    "print('Другое исключение, имплементированное как класс')\n",
    "print(type(AnotherException(special_argument='My speacial')))\n",
    "print(AnotherException)\n",
    "\n",
    "# import sys\n",
    "# try:\n",
    "#     1 / 0\n",
    "# except:\n",
    "#     tb = sys.exception().__traceback__ # возникло какое-то системное исключение, мы берем его след и подставляем в наше исключение, которое возвращаем\n",
    "#     raise MyException.with_traceback(tb)\n",
    "\n",
    "# последняя часть, выражение finally -- сообщает интерпретатору, что часть кода в этом блоке должна быть выполнена в любом случае\n",
    "# замечания: если в try возникает ошибка (вызывается raise), то исполняется except и затем finally, без except -- finally и снова вызывается raise SomeException\n",
    "# если в finally вызывается break, continue, return -- повторно raise не вызывается\n",
    "\n",
    "try:\n",
    "    result = 1 / 0\n",
    "    print('Результат:', result)\n",
    "except:\n",
    "    print('Поймали деление на ноль')\n",
    "finally:\n",
    "    print('Выше представлен результат деления')\n",
    "\n",
    "# Task: Implement custom exceptions and multiple nested try-except blocks\n"
   ]
  },
  {
   "cell_type": "markdown",
   "metadata": {},
   "source": [
    "##### ИТЕРАТОРЫ"
   ]
  },
  {
   "cell_type": "code",
   "execution_count": 50,
   "metadata": {},
   "outputs": [
    {
     "name": "stdout",
     "output_type": "stream",
     "text": [
      "<class 'list_iterator'>\n",
      "[0, 1, 2, 3, 4, 5, 6, 7, 8, 9]\n",
      "0\n",
      "1\n",
      "[2, 3, 4, 5, 6, 7, 8, 9]\n"
     ]
    }
   ],
   "source": [
    "'''\n",
    "    Итератор это объект, который представляет собой поток данных.\n",
    "    Главный метод итераторов __next__ возвращает следующий элемент потока.\n",
    "    Если поток заканчивается, то поднимается исключение StopIteration\n",
    "    Чтобы создать итератор, нужно обернуть итерируемый объект встроенной функией iter(_:Iterable),\n",
    "        который попытается создать из объекта класс итератора.\n",
    "'''\n",
    "\n",
    "some_list: list[int] = [i for i in range(10)]\n",
    "my_iterator = iter(some_list)\n",
    "print(type(my_iterator))\n",
    "print(list(my_iterator))\n",
    "# print(next(my_iterator)) # StopIteration\n",
    "\n",
    "some_list: list[int] = [i for i in range(10)]\n",
    "my_iterator = iter(some_list)\n",
    "print(next(my_iterator))\n",
    "print(next(my_iterator))\n",
    "print(list(my_iterator)) # истощаем список объектов в итераторе"
   ]
  },
  {
   "cell_type": "markdown",
   "metadata": {},
   "source": [
    "##### ГЕНЕРАТОРЫ"
   ]
  },
  {
   "cell_type": "code",
   "execution_count": null,
   "metadata": {},
   "outputs": [
    {
     "name": "stdout",
     "output_type": "stream",
     "text": [
      "Тип функции генератора -- функция <class 'function'>\n",
      "Тип генератора -- генератор <class 'generator'>\n",
      "Тип функции, обернутой функцией iter, -- генератор  <class 'generator'>\n",
      "Вытащим значение из итератора 0\n",
      "Оставшиеся элементы последовательности [1, 2, 3, 4, 5, 6, 7, 8, 9]\n"
     ]
    }
   ],
   "source": [
    "'''\n",
    "    Генераторы - это специальный класс функций, которые упрощают создание итераторов.\n",
    "    Например, обычные функции вычисляют значение и возвращают его.\n",
    "    Генераторы возвращают итератор, который в свою очередь возвращает поток значений.\n",
    "'''\n",
    "\n",
    "# простейшая функция - генератор\n",
    "from typing import Iterable, Any\n",
    "def my_iterator(objects: Iterable[Any] | range) -> Any:\n",
    "    for o in objects:\n",
    "        yield o # специальное выражение для итератора/генератора; оно распознается интерпретатором и помечает функцию как генератор\n",
    "\n",
    "print('Тип функции генератора -- функция', type(my_iterator))\n",
    "print(\"Тип генератора -- генератор\", type((i for i in range(10))))\n",
    "\n",
    "\n",
    "my_iter = iter(my_iterator(range(10)))\n",
    "print('Тип функции, обернутой функцией iter, -- генератор ', type(my_iter))\n",
    "print('Вытащим значение из итератора', next(my_iter))\n",
    "print('Оставшиеся элементы последовательности', list(my_iter))\n",
    "\n",
    "# как только достигается последний элемент, выдается исключение StopIteration\n",
    "# _ = list(my_iter)\n",
    "# next(my_iter)\n",
    "# next(my_iter)"
   ]
  },
  {
   "cell_type": "code",
   "execution_count": null,
   "metadata": {},
   "outputs": [
    {
     "name": "stdout",
     "output_type": "stream",
     "text": [
      "string\n",
      "30\n"
     ]
    }
   ],
   "source": [
    "# существуют экзотические применения генераторов\n",
    "# ниже пример кода, как можно использовать рекурсию\n",
    "# USAGE CASE: в примере у вас словарь с несколькими уровнями вложенности \n",
    "# (допустим их бесконечно много и вы не хотите писать столько же for'ов для каждого уровня)\n",
    "# неплохой вариант использовать рекурсивное обращение, но с функцией не удастся потому что она возрвращает значение и завершает свою работу\n",
    "# так что вы должны сразу формировать внутри функции список вложенных объектов. А если объектов больше, чем места в вашей памяти?\n",
    "# полезное своейство генераторов заключается в том, что они не хранят все объекты в памяти, а только свое последнее состояние \n",
    "# то есть генератор побежит по всем вложенным объектам словаря и будет по мере обхода выдавать все объекты, не являющиеся словарем\n",
    "\n",
    "def my_recursive_generator(nested_dictionary: dict[ str, dict[str,Any]|Any ]):\n",
    "    if isinstance(nested_dictionary, dict):\n",
    "        for key, maybe_nested_dict in nested_dictionary.items():\n",
    "            for maybe_nested_dict in my_recursive_generator(maybe_nested_dict):\n",
    "                yield maybe_nested_dict\n",
    "    else:\n",
    "        yield nested_dictionary\n",
    "\n",
    "nested_dict_generator = my_recursive_generator(\n",
    "    {'level_1': {\n",
    "        'level_2': 'string',\n",
    "        'level_2_1': {\n",
    "                'level_3': 30\n",
    "            }\n",
    "        }\n",
    "    }\n",
    ")\n",
    "for nested_object in iter(nested_dict_generator): # iter можно и не использовать\n",
    "    print(nested_object)\n",
    "\n",
    "# TASK : реализовать минимизационный алгоритм унимодальной функции с помощью рекурсивного генератора (дихотомия, золотое сечение, ньютон, и т.д.)"
   ]
  },
  {
   "cell_type": "code",
   "execution_count": 49,
   "metadata": {},
   "outputs": [],
   "source": [
    "'''\n",
    "    кроме того, что генератор возвращает свое текущее состояние при помощи конструкции yield,\n",
    "    он также может принимать значения из внешней среды при помощи того же самого yield.\n",
    "    Сделать это можно, вызвав метод send генератора:\n",
    "        \n",
    "        some_value = yield bidirected_message # двунаправленное сообщение значит, что оно как возвращается из генератора\n",
    "                                              # так и принимается им извне\n",
    "    Ради лучшего понимания выражения выше скажем, что в терминах методов класса send бы выглядел так (описываем, однако, функцию):\n",
    "\n",
    "        def the_generator(some_initial_state: Any):\n",
    "            current_state = some_initial_state\n",
    "            # сделаем вид, что работаем с классом и опишем интерфейс метода send и next:\n",
    "            def send(value: Any = None):\n",
    "                nonlocal current_state\n",
    "                current_state = func(value) # мы что-то делаем внутри генератора прежде, чем вернуть переменную\n",
    "                return current_state\n",
    "\n",
    "        # опишем как работает метод next для итератора в таком виде:\n",
    "        def next(some_iterator: Iterable) -> Any:\n",
    "            return some_iterator.send(None) # next вызывает метод send без аргументов\n",
    "\n",
    "        В примере выше показано, что \n",
    "            1. send позволяет извне обновлять состояние генератора.\n",
    "            2. next вызывает метод send без аргументов\n",
    "'''\n",
    "\n",
    "def custom_fibonacci(init_value: int = 1):\n",
    "    prev_value = init_value - 1\n",
    "    current_value = init_value\n",
    "    while True:\n",
    "        new_value = ( yield (next_value := prev_value + current_value) )\n",
    "        if new_value is not None:\n",
    "            current_value = new_value\n",
    "        else:\n",
    "            prev_value = current_value\n",
    "            current_value = next_value"
   ]
  },
  {
   "cell_type": "code",
   "execution_count": 53,
   "metadata": {},
   "outputs": [
    {
     "name": "stdout",
     "output_type": "stream",
     "text": [
      "1\n",
      "2\n",
      "3\n",
      "5\n",
      "8\n",
      "13\n",
      "21\n",
      "34\n",
      "55\n",
      "89\n",
      "44\n",
      "54\n",
      "98\n"
     ]
    }
   ],
   "source": [
    "# создаем генератор чисел фибоначчи по умолчанию\n",
    "fibogen = custom_fibonacci()\n",
    "\n",
    "# проведем 10 итераций и посмотрим на известную последовательность\n",
    "for _ in range(10):\n",
    "    print(next(fibogen))\n",
    "\n",
    "# отправим новый элемент последовательности, а старый без изменений\n",
    "print( fibogen.send(10) )\n",
    "print( next(fibogen) )\n",
    "print( next(fibogen) )\n",
    "\n",
    "# TASK : написать генератор чисел фибоначчи так, чтобы он мог получать пару чисел: текущее и предыдущее\n",
    "\n",
    "# дополнительно генераторы обладают методами throw(value) и close() : подробно почитать можно https://docs.python.org/3/reference/expressions.html#generator.throw"
   ]
  },
  {
   "cell_type": "code",
   "execution_count": 1,
   "metadata": {},
   "outputs": [
    {
     "data": {
      "text/plain": [
       "'\\n    Работать с итераторами и генераторами проще с библиотекой itertools.\\n    Познакомиться как всегда в документации -- https://docs.python.org/3/library/itertools.html#module-itertools\\n'"
      ]
     },
     "execution_count": 1,
     "metadata": {},
     "output_type": "execute_result"
    }
   ],
   "source": [
    "'''\n",
    "    Работать с итераторами и генераторами проще с библиотекой itertools.\n",
    "    Познакомиться как всегда в документации -- https://docs.python.org/3/library/itertools.html#module-itertools\n",
    "'''\n",
    "# TASK : изучить библиотеку itertools"
   ]
  },
  {
   "cell_type": "markdown",
   "metadata": {},
   "source": [
    "##### ЛОГГИРОВАНИЕ"
   ]
  },
  {
   "cell_type": "code",
   "execution_count": 39,
   "metadata": {},
   "outputs": [
    {
     "name": "stdout",
     "output_type": "stream",
     "text": [
      "Различные уровни логгирования\n",
      "NOTSET 0\n",
      "DEBUG 10\n",
      "INFO 20\n",
      "WARNING 30\n",
      "ERROR 40\n",
      "CRITICAL 50\n"
     ]
    }
   ],
   "source": [
    "'''\n",
    "    Чтобы получать информацию о ходе выполнения алгоритма, можно периодически записывать на диск состояние выполнения.\n",
    "    (Как выглядит это состояние определяет разработчик)\n",
    "    Простой способ логгировать статус -- периодически писать данные в текстовый файл.\n",
    "    Второй, более правильный, использовать библиотеку для записи логов. -- https://docs.python.org/3/library/logging.html\n",
    "'''\n",
    "\n",
    "import os\n",
    "import logging\n",
    "import platform\n",
    "\n",
    "# создадим объект логгера\n",
    "# замечание: можно установить несколько уровней логгера, начиная от корневого\n",
    "# и далее спускаясь по иерархии при помощи суффиксов: root -> root.parent -> root.parent.child ...\n",
    "# это нужно для того, чтобы Вы не путались, откуда и что логгируется\n",
    "# к примеру у вас мгоуровневая архитектура с множество классов с наследованиями \n",
    "# и вы хотите следить на каком уровне и от какого объекта что и как происходит\n",
    "\n",
    "# создадим базовый конфиг для логгера и установим дефолтный уровень логгирования\n",
    "# все что ниже уровнем установленного будет игнорироваться при попытке залоггировать\n",
    "\n",
    "logger: logging.Logger = logging.getLogger('my_logger')  # дефолтный логгер\n",
    "child_logger: logging.Logger = logging.getLogger('my_logger.child')  # логгер дочернего уровня\n",
    "logging.basicConfig(filename='my_logs.log', level=logging.INFO)\n",
    "\n",
    "print('Различные уровни логгирования')\n",
    "print('NOTSET', logging.NOTSET)\n",
    "print('DEBUG', logging.DEBUG)\n",
    "print('INFO', logging.INFO)\n",
    "print('WARNING', logging.WARNING)\n",
    "print('ERROR', logging.ERROR)\n",
    "print('CRITICAL', logging.CRITICAL)\n",
    "\n",
    "logger.debug('Просто дебаг, что все заработало')\n",
    "logger.info(f'Получаем информацию об ОС: {platform.system()}')\n",
    "logger.warning('Так мы выводим предупреждение в логи!')\n",
    "logger.error('Так мы выводим ошибку в логи!')\n",
    "logger.critical('Так мы выводим критическое предупреждение/ошибку!')\n",
    "\n",
    "child_logger.info('Отделим логом дочернего логгера все предыдущие записи!')"
   ]
  },
  {
   "cell_type": "code",
   "execution_count": 40,
   "metadata": {},
   "outputs": [],
   "source": [
    "# Ограничим уровень логгирования только до ошибок\n",
    "logger.setLevel(logging.ERROR)\n",
    "\n",
    "logger.debug('(ОГРАНИЧЕНО ДО ERROR) Просто дебаг, что все заработало')\n",
    "logger.info(f'(ОГРАНИЧЕНО ДО ERROR) Получаем информацию об ОС: {platform.system()}')\n",
    "logger.warning('(ОГРАНИЧЕНО ДО ERROR) Так мы выводим предупреждение в логи!')\n",
    "logger.error('(ОГРАНИЧЕНО ДО ERROR) Так мы выводим ошибку в логи!')\n",
    "logger.critical('(ОГРАНИЧЕНО ДО ERROR) Так мы выводим критическое предупреждение/ошибку!')"
   ]
  },
  {
   "cell_type": "code",
   "execution_count": 49,
   "metadata": {},
   "outputs": [],
   "source": [
    "# можно устанавливать необходимый формат логов и создавать специальные объекты, \n",
    "# которые будут управляться с файлами логов:\n",
    "\n",
    "import logging.handlers\n",
    "\n",
    "new_logger: logging.Logger = logging.getLogger('new_logger')  # новый логгер\n",
    "\n",
    "formatter = logging.Formatter(\n",
    "    fmt='%(asctime)s %(levelname)-8s %(message)s',\n",
    "    datefmt='%Y-%m-%d %H:%M:%S'\n",
    ")\n",
    "\n",
    "log_handler = logging.handlers.TimedRotatingFileHandler('logs.txt', 'midnight', utc=True)\n",
    "log_handler.setFormatter(formatter)\n",
    "new_logger.addHandler(log_handler)\n",
    "\n",
    "\n",
    "new_logger.info('Здесь красивая информационная запись!')\n",
    "new_logger.critical('Здесь красивая запись о критической ошибке!')\n"
   ]
  },
  {
   "cell_type": "markdown",
   "metadata": {},
   "source": [
    "##### ФУНКЦИОНАЛЬНОЕ ПРОГРАММИРОВАНИЕ"
   ]
  },
  {
   "cell_type": "code",
   "execution_count": 37,
   "metadata": {},
   "outputs": [
    {
     "name": "stdout",
     "output_type": "stream",
     "text": [
      "Результат работы чистой функции, сложение, 15\n",
      "не меняется при постоянных аргументах, 15\n",
      "Эта функция зависит от состояния системы и при каждом вызове меняет свое значение.\n",
      "Это \"грязная\" функция\n",
      " 2025-03-06 11:15:26.169743\n",
      " 2025-03-06 11:15:27.170172\n"
     ]
    }
   ],
   "source": [
    "'''\n",
    "    Вспомним функции и в частности поработаем с понятием \"чистая функция\" ('pure function').\n",
    "    Чистая функция:\n",
    "        1. Детерминирована по своему поведению:\n",
    "            (при одниих и тех те же аргументах возвращает одно и то же значение)\n",
    "        2. Не имеет побочных эффектов ('side effects'):\n",
    "            (не изменяет входные аргументы и не изменяет ничего за пределами своей видимости:\n",
    "             ни в программе, ни в ОС(изменение файлов, и  т.п.))\n",
    "'''\n",
    "\n",
    "from numbers import Number\n",
    "\n",
    "# пример чистой функцииNumber\n",
    "def add(x: Number, y: Number) -> Number:\n",
    "    return x + y\n",
    "\n",
    "print('Результат работы чистой функции, сложение,', add(5,10))\n",
    "print('не меняется при постоянных аргументах,', add(5,10))\n",
    "\n",
    "import time\n",
    "import datetime\n",
    "\n",
    "# пример \"грязной\" функции -- часы\n",
    "def watch() -> datetime.datetime:\n",
    "    return time.strftime(str(datetime.datetime.now()))\n",
    "\n",
    "print(\n",
    "    '''Эта функция зависит от состояния системы и при каждом вызове меняет свое значение.\n",
    "Это \"грязная\" функция\n",
    "''', watch()\n",
    ")\n",
    "time.sleep(1)\n",
    "print(\"\",watch())"
   ]
  },
  {
   "cell_type": "code",
   "execution_count": null,
   "metadata": {},
   "outputs": [
    {
     "name": "stdout",
     "output_type": "stream",
     "text": [
      "Простая lambda функция f(x)=x^2.\n",
      "f(3) = 9 \n",
      "\n",
      "Более сложная lambda функция f(x)=x^2 * sign(x).\n",
      "f(-3) = -9 \n",
      "\n",
      "Очень сложная lambda функция f(module) = list(module.submodules).\n",
      "f(functools) = ['get_cache_token', 'namedtuple', 'recursive_repr', 'RLock', 'GenericAlias', 'WRAPPER_ASSIGNMENTS', 'WRAPPER_UPDATES', 'update_wrapper', 'wraps', 'total_ordering', 'cmp_to_key', 'reduce', 'partial', 'partialmethod', 'lru_cache', 'cache', 'singledispatch', 'singledispatchmethod', 'cached_property'] \n",
      "\n",
      "Рекурсивная lambda функция f(x) = 0, х = 1 и f(x - 1), если иначе.\n",
      " 0\n"
     ]
    },
    {
     "data": {
      "text/plain": [
       "'\\n    В общем, функциональное программирование это очень мощный инструмент, \\n    который при правильном использовании может:\\n        а) секономить строки кода и времени\\n        б) упростить понимание логики\\n        в) ускорить вычисления\\n        г) сократить потребление памяти\\n\\n    Основные инструменты и библиотеки для использования:\\n    итераторы, генераторы, рекурсии, лямбда выражения и омбинации всех этих конструкций\\n    библиотеки : functools, itertools, operator\\n'"
      ]
     },
     "execution_count": 67,
     "metadata": {},
     "output_type": "execute_result"
    }
   ],
   "source": [
    "'''\n",
    "    Говоря о функциональном программировании, мы подразумеваем, что весь процесс вычисления\n",
    "    трактуется как вычисление значений функций (в математическом смысле) и в общем мы хотим\n",
    "    сохранять промежуточные значения или состояния и т.п.\n",
    "    То есть в конечном счете мы хотим построить граф вычислений, у которого есть вход в виде аргументов\n",
    "    и выход в виде какого-то значения, а остальная его часть для нас в некотором смысле есть \"черный ящик\" \n",
    "    (но мы естественно понимаем и знаем, что происходит у него внутри).\n",
    "    Главное требование к такому подходу -- использование исключительно \"чистых\" функций.\n",
    "\n",
    "    Ранее мы уже рассмотрели некоторые примеры программирования в рамках функциональной парадигмы.\n",
    "    Например, при выводе объектов, включенных в модули и библиотеки\n",
    "    \n",
    "    import functools\n",
    "    from types import ModuleType\n",
    "\n",
    "\n",
    "    def print_submodules(module: ModuleType) -> list[str]:\n",
    "        print('\\n'.join(list(filter(lambda x: not x.startswith('_') and x != 'abc', module.__dict__.keys()))))\n",
    "        return list(filter(lambda x: not x.startswith('_') and x != 'abc', module.__dict__.keys()))\n",
    "\n",
    "    В этом примере мы построили вычислительный граф, который на вход принимает какой-то модуль (библиотеку),\n",
    "    а возвращает список входящих в него объектов (классов, функций, констант и т.д.).\n",
    "\n",
    "    Другие примеры функционального подхода - это использование следующих конструкций:\n",
    "    а) рекурсии\n",
    "    б) итераторы \n",
    "    в) генераторы\n",
    "    в) lambda-функции (анонимные функции)\n",
    "    \n",
    "    Последнее рассмотрим ниже. lambda выражения создают анонимную функцию, \n",
    "    которая выполняет одну операцию (один граф вычислений) и не имеет side-эффектов\n",
    "    (то есть не изменяет состояний объектов вне себя). То есть упрощенно, главное требование\n",
    "    lambda функции - запись в одну строку, которая накладывает средствами интерпретатора python\n",
    "    множество ограничений на набор выполняемых операций. Пример ниже\n",
    "'''\n",
    "\n",
    "# простейшая lambda: принимает на вход число и возвращает его квадрат\n",
    "lambda_func = lambda x: x**2\n",
    "print('Простая lambda функция f(x)=x^2.\\nf(3) =', lambda_func(3), '\\n')\n",
    "\n",
    "# чуть более сложная lambda: принимает на вход число и возвращает его квадрат с учетом знака числа\n",
    "lambda_func = lambda x: x**2 if x > 0 else - x**2\n",
    "print('Более сложная lambda функция f(x)=x^2 * sign(x).\\nf(-3) =', lambda_func(-3), '\\n')\n",
    "\n",
    "import functools\n",
    "\n",
    "# сложная lambda: принимает на вход модуль и возвращает список его объектов\n",
    "lambda_func =\\\n",
    "    lambda module: list(\n",
    "        filter(\n",
    "            lambda x: not x.startswith('_'), module.__dict__.keys()\n",
    "        )\n",
    "    )\n",
    "print('Очень сложная lambda функция f(module) = list(module.submodules).\\nf(functools) =', lambda_func(functools), '\\n')\n",
    "\n",
    "# заметьте, что можно писать рекурсивные лямбда функции!\n",
    "my_recursion = lambda x: my_recursion(x-1) if x > 1 else x - 1\n",
    "print('Рекурсивная lambda функция f(x) = 0, х = 1 и f(x - 1), если иначе.\\n', my_recursion(5))\n",
    "\n",
    "'''\n",
    "    В общем, функциональное программирование это очень мощный инструмент, \n",
    "    который при правильном использовании может:\n",
    "        а) секономить строки кода и времени\n",
    "        б) упростить понимание логики\n",
    "        в) ускорить вычисления\n",
    "        г) сократить потребление памяти\n",
    "\n",
    "    Основные инструменты и библиотеки для использования:\n",
    "    итераторы, генераторы, рекурсии, лямбда выражения и омбинации всех этих конструкций\n",
    "    библиотеки : functools, itertools, operator\n",
    "'''"
   ]
  },
  {
   "cell_type": "markdown",
   "metadata": {},
   "source": [
    "##### ДЕКОРАТОРЫ"
   ]
  },
  {
   "cell_type": "code",
   "execution_count": null,
   "metadata": {},
   "outputs": [],
   "source": [
    "'''\n",
    "    Декораторы - это функции, которые принимают на вход функцию.\n",
    "    Синтаксис декоратора:\n",
    "        \n",
    "        @my_decorator\n",
    "        def my_function(args):\n",
    "            do_something...\n",
    "            return value\n",
    "\n",
    "    Эквивалентно\n",
    "\n",
    "        decorated_function: Callable[[Any], Any] = my_decorator(my_function)  # <- decorated_function это функция с тем же интерфейсом что и my_function\n",
    "\n",
    "    Декораторы уже относятся к области метапрограммирования.\n",
    "        Метапрограммирование — это парадигма построения кода информационной системы \n",
    "        с динамическим изменением поведения или структуры в зависимости от данных,\n",
    "        действий пользователя или взаимодействия с другими системами.\n",
    "        Задачи метапрограммирования: \n",
    "            повышение абстракции кода и его гибкости, \n",
    "            повторное использование, ускорение разработки, \n",
    "            упрощение межсистемной интеграции.\n",
    "        @ https://habr.com/ru/articles/137446/\n",
    "    \n",
    "'''\n",
    "\n",
    "from typing import Any, Sequence, Callable\n",
    "\n",
    "# напишем простой декоратор, выводящий название функции, к которой он применяется\n",
    "def print_func_name(func: Callable[[Any], Any]) -> Callable[[Any], Any]:\n",
    "    # эта обертка позволит проводить операции только в момент вызова самой функции,\n",
    "    # а не в момент декларирования функции (и вызова декоратора соот-но)\n",
    "    def wrapper(*args, **kwargs):\n",
    "        print(f'The {func.__name__} was decorated!')\n",
    "        return func(*args, **kwargs)\n",
    "    return wrapper\n",
    "\n",
    "# здесь мы напишем сумматор произвольного набора чисел и обернем его декоратором\n",
    "@print_func_name\n",
    "def summator(*args: Sequence[int|float]) -> int|float:\n",
    "    _value = 0\n",
    "    for v in args:\n",
    "        _value += v\n",
    "    return _value\n"
   ]
  },
  {
   "cell_type": "code",
   "execution_count": 47,
   "metadata": {},
   "outputs": [
    {
     "name": "stdout",
     "output_type": "stream",
     "text": [
      "The summator was decorated!\n"
     ]
    },
    {
     "data": {
      "text/plain": [
       "21"
      ]
     },
     "execution_count": 47,
     "metadata": {},
     "output_type": "execute_result"
    }
   ],
   "source": [
    "summator(1,2,3,4,5,6)"
   ]
  },
  {
   "cell_type": "code",
   "execution_count": 48,
   "metadata": {},
   "outputs": [],
   "source": [
    "# эквивалетно мы можем использовать декоратор без @ а просто вызвав его как функцию\n",
    "def summator(*args: Sequence[int|float]) -> int|float:\n",
    "    _value = 0\n",
    "    for v in args:\n",
    "        _value += v\n",
    "    return _value\n",
    "\n",
    "new_summator: Callable[[Any], Any] = print_func_name(summator)"
   ]
  },
  {
   "cell_type": "code",
   "execution_count": 49,
   "metadata": {},
   "outputs": [
    {
     "name": "stdout",
     "output_type": "stream",
     "text": [
      "The summator was decorated!\n"
     ]
    },
    {
     "data": {
      "text/plain": [
       "21"
      ]
     },
     "execution_count": 49,
     "metadata": {},
     "output_type": "execute_result"
    }
   ],
   "source": [
    "new_summator(1,2,3,4,5,6)"
   ]
  },
  {
   "cell_type": "code",
   "execution_count": 50,
   "metadata": {},
   "outputs": [
    {
     "name": "stdout",
     "output_type": "stream",
     "text": [
      "The summator was decorated!\n"
     ]
    }
   ],
   "source": [
    "# если мы не используем wrapper то вывод имени функции произведется лишь в момент декларации \n",
    "# оборачиваемой функции\n",
    "\n",
    "def print_func_name(func: Callable[[Any], Any]) -> Callable[[Any], Any]:\n",
    "    print(f'The {func.__name__} was decorated!')\n",
    "    return func\n",
    "\n",
    "@print_func_name\n",
    "def summator(*args: Sequence[float]) -> float:\n",
    "    _value = 0\n",
    "    for v in args:\n",
    "        _value += v\n",
    "    return _value"
   ]
  },
  {
   "cell_type": "code",
   "execution_count": 51,
   "metadata": {},
   "outputs": [
    {
     "data": {
      "text/plain": [
       "21"
      ]
     },
     "execution_count": 51,
     "metadata": {},
     "output_type": "execute_result"
    }
   ],
   "source": [
    "# при вызове сумматора ничего не произойдет\n",
    "summator(1,2,3,4,5,6) "
   ]
  },
  {
   "cell_type": "markdown",
   "metadata": {},
   "source": [
    "##### ПРАКТИЧЕСКИЕ ЗАДАНИЯ\n",
    "\n",
    "В этом разделе представлены практические задания для закрепления изученного материала. Задания разделены по темам и расположены в порядке возрастания сложности.\n"
   ]
  },
  {
   "cell_type": "markdown",
   "metadata": {},
   "source": [
    "## 1. УСЛОВНЫЕ ОПЕРАТОРЫ\n",
    "\n",
    "### Задание 1.1: Калькулятор оценок\n",
    "Напишите программу, которая принимает числовую оценку (0-100) и выводит соответствующую буквенную оценку:\n",
    "- 90-100: A\n",
    "- 80-89: B  \n",
    "- 70-79: C\n",
    "- 60-69: D\n",
    "- 0-59: F\n",
    "\n",
    "Используйте как обычные if-elif-else конструкции, так и match-case.\n",
    "\n",
    "### Задание 1.2: Проверка года на високосность\n",
    "Создайте функцию, которая определяет, является ли год високосным. Год високосный, если:\n",
    "- Он делится на 4, но не на 100, ИЛИ\n",
    "- Он делится на 400\n",
    "\n",
    "### Задание 1.3: Классификация треугольников\n",
    "Напишите программу, которая по трем сторонам треугольника определяет его тип:\n",
    "- Равносторонний (все стороны равны)\n",
    "- Равнобедренный (две стороны равны)\n",
    "- Разносторонний (все стороны разные)\n",
    "- Не является треугольником (сумма двух сторон меньше третьей)\n"
   ]
  },
  {
   "cell_type": "code",
   "execution_count": 6,
   "metadata": {},
   "outputs": [
    {
     "name": "stdout",
     "output_type": "stream",
     "text": [
      "D\n",
      "False\n",
      "Равносторонний\n"
     ]
    }
   ],
   "source": [
    "#задание 1\n",
    "def get_mark(value: int) -> str:\n",
    "    match value:\n",
    "        case _ if value < 60:\n",
    "            return \"F\"\n",
    "        case _ if (value >=60 and value < 70):\n",
    "            return \"D\"\n",
    "        case _ if (value >=70 and value < 80):\n",
    "            return \"C\"\n",
    "        case _ if (value >= 80 and value < 90):\n",
    "            return \"B\"\n",
    "        case _ if value >= 90:\n",
    "            return \"A\"\n",
    "print(get_mark(66))\n",
    "\n",
    "#задание 1.2\n",
    "def is_v_year(year: int) -> bool:\n",
    "    return (year % 4 == 0 and year % 100 != 0) or (year % 400 == 0)\n",
    "print(is_v_year(2025))\n",
    "\n",
    "#задание 1.3\n",
    "def is_right_triangle(a: int, b: int, c: int) -> str:\n",
    "    if a + b < c or b + c < a or a + c < b:\n",
    "        return \"Не треугольник\"\n",
    "    elif a == b and b == c:\n",
    "        return \"Равносторонний\"\n",
    "    elif a == b and b != c or a == c and b != a:\n",
    "        return \"Равнобедренный\"\n",
    "    else:\n",
    "        return \"Разносторонний\"\n",
    "print(is_right_triangle(12,12,12))"
   ]
  },
  {
   "cell_type": "markdown",
   "metadata": {},
   "source": [
    "## 2. ЦИКЛЫ\n",
    "\n",
    "### Задание 2.1: Таблица умножения\n",
    "Создайте программу, которая выводит таблицу умножения от 1 до 10. Используйте вложенные циклы for.\n",
    "\n",
    "### Задание 2.2: Поиск простых чисел\n",
    "Напишите функцию, которая находит все простые числа от 2 до заданного числа n. Используйте цикл for и проверку делимости.\n",
    "\n",
    "### Задание 2.3: Игра \"Угадай число\"\n",
    "Создайте игру, где компьютер загадывает случайное число от 1 до 100, а пользователь пытается его угадать. Программа должна:\n",
    "- Генерировать случайное число\n",
    "- Принимать ввод от пользователя\n",
    "- Давать подсказки \"больше\" или \"меньше\"\n",
    "- Считать количество попыток\n",
    "- Использовать цикл while\n",
    "\n",
    "### Задание 2.4: Анализ текста\n",
    "Напишите программу, которая анализирует текст и выводит:\n",
    "- Количество символов\n",
    "- Количество слов\n",
    "- Количество предложений\n",
    "- Самые частые слова (топ-5)\n",
    "\n",
    "Используйте циклы for для обработки текста.\n"
   ]
  },
  {
   "cell_type": "code",
   "execution_count": 9,
   "metadata": {},
   "outputs": [
    {
     "name": "stdout",
     "output_type": "stream",
     "text": [
      "1 * 1 = 1\n",
      "1 * 2 = 2\n",
      "1 * 3 = 3\n",
      "1 * 4 = 4\n",
      "1 * 5 = 5\n",
      "1 * 6 = 6\n",
      "1 * 7 = 7\n",
      "1 * 8 = 8\n",
      "1 * 9 = 9\n",
      "1 * 10 = 10\n",
      "2 * 1 = 2\n",
      "2 * 2 = 4\n",
      "2 * 3 = 6\n",
      "2 * 4 = 8\n",
      "2 * 5 = 10\n",
      "2 * 6 = 12\n",
      "2 * 7 = 14\n",
      "2 * 8 = 16\n",
      "2 * 9 = 18\n",
      "2 * 10 = 20\n",
      "3 * 1 = 3\n",
      "3 * 2 = 6\n",
      "3 * 3 = 9\n",
      "3 * 4 = 12\n",
      "3 * 5 = 15\n",
      "3 * 6 = 18\n",
      "3 * 7 = 21\n",
      "3 * 8 = 24\n",
      "3 * 9 = 27\n",
      "3 * 10 = 30\n",
      "4 * 1 = 4\n",
      "4 * 2 = 8\n",
      "4 * 3 = 12\n",
      "4 * 4 = 16\n",
      "4 * 5 = 20\n",
      "4 * 6 = 24\n",
      "4 * 7 = 28\n",
      "4 * 8 = 32\n",
      "4 * 9 = 36\n",
      "4 * 10 = 40\n",
      "5 * 1 = 5\n",
      "5 * 2 = 10\n",
      "5 * 3 = 15\n",
      "5 * 4 = 20\n",
      "5 * 5 = 25\n",
      "5 * 6 = 30\n",
      "5 * 7 = 35\n",
      "5 * 8 = 40\n",
      "5 * 9 = 45\n",
      "5 * 10 = 50\n",
      "6 * 1 = 6\n",
      "6 * 2 = 12\n",
      "6 * 3 = 18\n",
      "6 * 4 = 24\n",
      "6 * 5 = 30\n",
      "6 * 6 = 36\n",
      "6 * 7 = 42\n",
      "6 * 8 = 48\n",
      "6 * 9 = 54\n",
      "6 * 10 = 60\n",
      "7 * 1 = 7\n",
      "7 * 2 = 14\n",
      "7 * 3 = 21\n",
      "7 * 4 = 28\n",
      "7 * 5 = 35\n",
      "7 * 6 = 42\n",
      "7 * 7 = 49\n",
      "7 * 8 = 56\n",
      "7 * 9 = 63\n",
      "7 * 10 = 70\n",
      "8 * 1 = 8\n",
      "8 * 2 = 16\n",
      "8 * 3 = 24\n",
      "8 * 4 = 32\n",
      "8 * 5 = 40\n",
      "8 * 6 = 48\n",
      "8 * 7 = 56\n",
      "8 * 8 = 64\n",
      "8 * 9 = 72\n",
      "8 * 10 = 80\n",
      "9 * 1 = 9\n",
      "9 * 2 = 18\n",
      "9 * 3 = 27\n",
      "9 * 4 = 36\n",
      "9 * 5 = 45\n",
      "9 * 6 = 54\n",
      "9 * 7 = 63\n",
      "9 * 8 = 72\n",
      "9 * 9 = 81\n",
      "9 * 10 = 90\n",
      "10 * 1 = 10\n",
      "10 * 2 = 20\n",
      "10 * 3 = 30\n",
      "10 * 4 = 40\n",
      "10 * 5 = 50\n",
      "10 * 6 = 60\n",
      "10 * 7 = 70\n",
      "10 * 8 = 80\n",
      "10 * 9 = 90\n",
      "10 * 10 = 100\n",
      "Простые числа до 30: [2, 3, 5, 7, 11, 13, 17, 19, 23, 29]\n",
      "Игра 'Угадай число'\n",
      "Я загадал число от 1 до 100. Угадаешь?\n"
     ]
    },
    {
     "name": "stdin",
     "output_type": "stream",
     "text": [
      "Введите ваше число:  5\n"
     ]
    },
    {
     "name": "stdout",
     "output_type": "stream",
     "text": [
      "Загаданное число больше\n"
     ]
    },
    {
     "name": "stdin",
     "output_type": "stream",
     "text": [
      "Введите ваше число:  26\n"
     ]
    },
    {
     "name": "stdout",
     "output_type": "stream",
     "text": [
      "Загаданное число больше\n"
     ]
    },
    {
     "name": "stdin",
     "output_type": "stream",
     "text": [
      "Введите ваше число:  60\n"
     ]
    },
    {
     "name": "stdout",
     "output_type": "stream",
     "text": [
      "Загаданное число больше\n"
     ]
    },
    {
     "name": "stdin",
     "output_type": "stream",
     "text": [
      "Введите ваше число:  80\n"
     ]
    },
    {
     "name": "stdout",
     "output_type": "stream",
     "text": [
      "Загаданное число меньше\n"
     ]
    },
    {
     "name": "stdin",
     "output_type": "stream",
     "text": [
      "Введите ваше число:  75\n"
     ]
    },
    {
     "name": "stdout",
     "output_type": "stream",
     "text": [
      "Загаданное число меньше\n"
     ]
    },
    {
     "name": "stdin",
     "output_type": "stream",
     "text": [
      "Введите ваше число:  70\n"
     ]
    },
    {
     "name": "stdout",
     "output_type": "stream",
     "text": [
      "Загаданное число больше\n"
     ]
    },
    {
     "name": "stdin",
     "output_type": "stream",
     "text": [
      "Введите ваше число:  73\n"
     ]
    },
    {
     "name": "stdout",
     "output_type": "stream",
     "text": [
      "Загаданное число больше\n"
     ]
    },
    {
     "name": "stdin",
     "output_type": "stream",
     "text": [
      "Введите ваше число:  74\n"
     ]
    },
    {
     "name": "stdout",
     "output_type": "stream",
     "text": [
      "Вы угадали число 74!\n",
      "Количество попыток: 8\n",
      "Количество символов (без пробелов): 253\n",
      "Количество слов: 35\n",
      "Количество предложений: 6\n",
      "Топ-5 самых частых слов:\n",
      "  Python: 5\n",
      "  это: 2\n",
      "  и: 2\n",
      "  python: 2\n",
      "  мощный: 1\n"
     ]
    }
   ],
   "source": [
    "import random\n",
    "\n",
    "#задача 2\n",
    "def get_multiplier_table_for_ten():\n",
    "    for i in range(1, 11):\n",
    "        for j in range (1, 11):\n",
    "            print(f\"{i} * {j} = {i*j}\")\n",
    "get_multiplier_table_for_ten()   \n",
    "\n",
    "#задача 2.3\n",
    "def guess_number_game():\n",
    "    secret_number = random.randint(1, 100)\n",
    "    attempts = 0\n",
    "    \n",
    "    print(\"Игра 'Угадай число'\")\n",
    "    print(\"Я загадал число от 1 до 100. Угадаешь?\")\n",
    "    \n",
    "    while True:\n",
    "        try:\n",
    "            guess = int(input(\"Введите ваше число: \"))\n",
    "            attempts += 1\n",
    "            \n",
    "            if guess < secret_number:\n",
    "                print(\"Загаданное число больше\")\n",
    "            elif guess > secret_number:\n",
    "                print(\"Загаданное число меньше\")\n",
    "            else:\n",
    "                print(f\"Вы угадали число {secret_number}!\")\n",
    "                print(f\"Количество попыток: {attempts}\")\n",
    "                break\n",
    "                \n",
    "        except ValueError:\n",
    "            print(\"Введите целое число\")\n",
    "\n",
    "guess_number_game()\n",
    "\n",
    "#задача 2.4\n",
    "\n",
    "import string\n",
    "from collections import Counter\n",
    "\n",
    "def analyze_text(text: str) -> dict:\n",
    "    text_clean = text.translate(str.maketrans('', '', string.punctuation))\n",
    "    \n",
    "    char_count = len(text.replace(\" \", \"\"))\n",
    "    \n",
    "    words = text_clean.split()\n",
    "    word_count = len(words)\n",
    "    \n",
    "    sentence_count = text.count('.') + text.count('!') + text.count('?')\n",
    "    \n",
    "    word_freq = Counter(words)\n",
    "    top_words = word_freq.most_common(5)\n",
    "    \n",
    "    return {\n",
    "        'characters': char_count,\n",
    "        'words': word_count,\n",
    "        'sentences': sentence_count,\n",
    "        'top_words': top_words\n",
    "    }\n",
    "\n",
    "sample_text = \"\"\"\n",
    "Python - это мощный и простой язык программирования. Он идеально подходит для начинающих.\n",
    "Python используется в веб-разработке, анализе данных, искусственном интеллекте. \n",
    "Программирование на Python - это удовольствие! Код читается легко и понятно.\n",
    "Python, python, python - везде Python!\n",
    "\"\"\"\n",
    "\n",
    "result = analyze_text(sample_text)\n",
    "\n",
    "print(f\"Количество символов (без пробелов): {result['characters']}\")\n",
    "print(f\"Количество слов: {result['words']}\")\n",
    "print(f\"Количество предложений: {result['sentences']}\")\n",
    "print(\"Топ-5 самых частых слов:\")\n",
    "for word, count in result['top_words']:\n",
    "    print(f\"  {word}: {count}\")"
   ]
  },
  {
   "cell_type": "code",
   "execution_count": null,
   "metadata": {},
   "outputs": [],
   "source": [
    "\n",
    "#задача 2.2\n",
    "def find_prime_numbers(n: int) -> list:\n",
    "    primes = []\n",
    "    \n",
    "    for num in range(2, n + 1):\n",
    "        is_prime = True\n",
    "        for i in range(2, int(num ** 0.5) + 1):\n",
    "            if num % i == 0:\n",
    "                is_prime = False\n",
    "                break\n",
    "                \n",
    "        if is_prime:\n",
    "            primes.append(num)\n",
    "    \n",
    "    return primes\n",
    "print(\"Простые числа до 30:\", find_prime_numbers(30))"
   ]
  },
  {
   "cell_type": "markdown",
   "metadata": {},
   "source": [
    "## 3. ОБРАБОТКА ОШИБОК\n",
    "\n",
    "### Задание 3.1: Безопасный калькулятор\n",
    "Создайте калькулятор, который безопасно выполняет арифметические операции:\n",
    "- Принимает два числа и операцию (+, -, *, /)\n",
    "- Обрабатывает деление на ноль\n",
    "- Обрабатывает неверный ввод (не числа)\n",
    "- Обрабатывает неверные операции\n",
    "- Использует try-except-finally блоки\n",
    "\n",
    "### Задание 3.2: Чтение файла с обработкой ошибок\n",
    "Напишите функцию, которая:\n",
    "- Пытается прочитать файл\n",
    "- Обрабатывает FileNotFoundError\n",
    "- Обрабатывает PermissionError\n",
    "- Обрабатывает UnicodeDecodeError\n",
    "- Всегда выводит сообщение о завершении операции (finally)\n",
    "\n",
    "### Задание 3.3: Кастомные исключения\n",
    "Создайте систему кастомных исключений для банковского приложения:\n",
    "- InsufficientFundsError (недостаточно средств)\n",
    "- InvalidAccountError (неверный номер счета)\n",
    "- TransactionLimitError (превышен лимит транзакций)\n",
    "- Реализуйте класс BankAccount с методами deposit, withdraw, transfer\n",
    "- Используйте ваши кастомные исключения\n"
   ]
  },
  {
   "cell_type": "markdown",
   "metadata": {},
   "source": [
    "## 4. ИТЕРАТОРЫ И ГЕНЕРАТОРЫ\n",
    "\n",
    "### Задание 4.1: Кастомный итератор\n",
    "Создайте класс, который реализует итератор для последовательности Фибоначчи:\n",
    "- Реализуйте методы __iter__ и __next__\n",
    "- Ограничьте количество итераций параметром max_iterations\n",
    "- Обработайте исключение StopIteration\n",
    "\n",
    "### Задание 4.2: Генератор простых чисел\n",
    "Напишите генератор, который выдает простые числа:\n",
    "- Используйте yield для генерации чисел\n",
    "- Реализуйте эффективный алгоритм проверки простоты\n",
    "- Добавьте возможность ограничить количество генерируемых чисел\n",
    "\n",
    "### Задание 4.3: Генератор с send()\n",
    "Создайте генератор, который:\n",
    "- Генерирует последовательность квадратов чисел\n",
    "- Принимает через send() новое начальное значение\n",
    "- Может быть сброшен к новому начальному значению\n",
    "- Логирует все операции\n",
    "\n",
    "### Задание 4.4: Рекурсивный генератор\n",
    "Реализуйте генератор для обхода дерева:\n",
    "- Создайте класс TreeNode с дочерними узлами\n",
    "- Напишите рекурсивный генератор для обхода дерева в глубину\n",
    "- Добавьте возможность обхода в ширину\n"
   ]
  },
  {
   "cell_type": "markdown",
   "metadata": {},
   "source": [
    "## 5. ЛОГГИРОВАНИЕ\n",
    "\n",
    "### Задание 5.1: Система логирования для веб-приложения\n",
    "Создайте систему логирования для имитации веб-приложения:\n",
    "- Настройте разные логгеры для разных компонентов (auth, database, api)\n",
    "- Используйте разные уровни логирования\n",
    "- Настройте ротацию логов по времени\n",
    "- Логируйте запросы, ошибки, успешные операции\n",
    "\n",
    "### Задание 5.2: Логирование с контекстом\n",
    "Реализуйте систему логирования с контекстной информацией:\n",
    "- Добавляйте к каждому логу информацию о пользователе\n",
    "- Включайте timestamp и уникальный ID запроса\n",
    "- Используйте структурированное логирование (JSON формат)\n",
    "- Создайте декоратор для автоматического логирования функций\n",
    "\n",
    "### Задание 5.3: Мониторинг производительности\n",
    "Создайте систему мониторинга производительности:\n",
    "- Логируйте время выполнения функций\n",
    "- Отслеживайте использование памяти\n",
    "- Создайте алерты при превышении пороговых значений\n",
    "- Используйте разные уровни для разных типов метрик\n"
   ]
  },
  {
   "cell_type": "markdown",
   "metadata": {},
   "source": [
    "## 6. ФУНКЦИОНАЛЬНОЕ ПРОГРАММИРОВАНИЕ\n",
    "\n",
    "### Задание 6.1: Чистые функции\n",
    "Создайте набор чистых функций для работы с математическими операциями:\n",
    "- Функции для базовых операций (сложение, вычитание, умножение, деление)\n",
    "- Функции для работы с векторами (скалярное произведение, норма)\n",
    "- Функции для работы с матрицами (транспонирование, умножение)\n",
    "- Убедитесь, что все функции являются чистыми (детерминированными и без побочных эффектов)\n",
    "\n",
    "### Задание 6.2: Lambda функции и высшие функции\n",
    "Реализуйте следующие задачи используя lambda функции:\n",
    "- Создайте список функций-преобразований (квадрат, куб, факториал)\n",
    "- Примените эти функции к списку чисел используя map()\n",
    "- Отфильтруйте числа по различным условиям используя filter()\n",
    "- Вычислите сумму, произведение, максимум, минимум используя reduce()\n",
    "\n",
    "### Задание 6.3: Функциональные композиции\n",
    "Создайте систему для композиции функций:\n",
    "- Реализуйте функцию compose(), которая принимает несколько функций и возвращает их композицию\n",
    "- Создайте pipeline для обработки данных (очистка, трансформация, валидация)\n",
    "- Используйте partial() для создания специализированных версий функций\n",
    "- Примените currying для создания функций с частичным применением аргументов\n"
   ]
  },
  {
   "cell_type": "markdown",
   "metadata": {},
   "source": [
    "## 7. ДЕКОРАТОРЫ\n",
    "\n",
    "### Задание 7.1: Декораторы для измерения времени\n",
    "Создайте декораторы для:\n",
    "- Измерения времени выполнения функции\n",
    "- Подсчета количества вызовов функции\n",
    "- Кэширования результатов функции (мемоизация)\n",
    "- Ограничения частоты вызовов функции (rate limiting)\n",
    "\n",
    "### Задание 7.2: Декораторы для валидации\n",
    "Реализуйте декораторы для:\n",
    "- Проверки типов аргументов функции\n",
    "- Валидации входных данных (например, email, телефон)\n",
    "- Проверки прав доступа (авторизация)\n",
    "- Логирования аргументов и результатов функции\n",
    "\n",
    "### Задание 7.3: Декораторы с параметрами\n",
    "Создайте декораторы, которые принимают параметры:\n",
    "- @retry(max_attempts=3, delay=1) - повторные попытки выполнения\n",
    "- @timeout(seconds=5) - ограничение времени выполнения\n",
    "- @deprecated(message=\"Use new_function instead\") - пометка устаревших функций\n",
    "- @validate_input(schema=my_schema) - валидация по схеме\n",
    "\n",
    "### Задание 7.4: Комплексная система декораторов\n",
    "Создайте систему декораторов для API эндпоинтов:\n",
    "- @authenticated - проверка аутентификации\n",
    "- @rate_limited(requests_per_minute=60) - ограничение частоты запросов\n",
    "- @validate_json(schema) - валидация JSON\n",
    "- @cache(ttl=300) - кэширование ответов\n",
    "- @log_request - логирование запросов\n",
    "- Комбинируйте несколько декораторов на одной функции\n"
   ]
  },
  {
   "cell_type": "markdown",
   "metadata": {},
   "source": [
    "## 8. КОМПЛЕКСНЫЕ ПРОЕКТЫ\n",
    "\n",
    "### Задание 8.1: Система управления задачами\n",
    "Создайте систему управления задачами (TODO list) с использованием всех изученных концепций:\n",
    "- Класс Task с полями: id, title, description, status, priority, created_at, updated_at\n",
    "- Класс TaskManager с методами: add_task, remove_task, update_task, get_tasks, filter_tasks\n",
    "- Используйте декораторы для логирования операций\n",
    "- Реализуйте валидацию данных с кастомными исключениями\n",
    "- Добавьте генератор для итерации по задачам\n",
    "- Используйте функциональное программирование для фильтрации и сортировки\n",
    "\n",
    "### Задание 8.2: Мини-игра \"Крестики-нолики\"\n",
    "Создайте игру \"Крестики-нолики\" с ИИ:\n",
    "- Класс GameBoard для игрового поля\n",
    "- Класс Player для игроков (человек и ИИ)\n",
    "- Класс Game для управления игрой\n",
    "- Используйте match-case для обработки состояний игры\n",
    "- Реализуйте простой ИИ с использованием генераторов\n",
    "- Добавьте логирование ходов и результатов\n",
    "- Обработайте все возможные ошибки\n",
    "\n",
    "### Задание 8.3: Система мониторинга файлов\n",
    "Создайте систему мониторинга изменений в файлах:\n",
    "- Класс FileMonitor для отслеживания файлов\n",
    "- Генератор для непрерывного мониторинга\n",
    "- Декораторы для логирования и кэширования\n",
    "- Обработка различных типов событий (создание, изменение, удаление)\n",
    "- Использование функционального программирования для обработки событий\n",
    "- Система уведомлений с кастомными исключениями\n"
   ]
  },
  {
   "cell_type": "markdown",
   "metadata": {},
   "source": [
    "## 9. ДОПОЛНИТЕЛЬНЫЕ ЗАДАНИЯ\n",
    "\n",
    "### Задание 9.1: Алгоритмические задачи\n",
    "Реализуйте следующие алгоритмы используя изученные концепции:\n",
    "\n",
    "1. **Быстрая сортировка (QuickSort)**\n",
    "   - Используйте рекурсию и генераторы\n",
    "   - Добавьте логирование для отслеживания процесса\n",
    "   - Обработайте крайние случаи\n",
    "\n",
    "2. **Поиск в глубину (DFS) и в ширину (BFS)**\n",
    "   - Создайте граф как структуру данных\n",
    "   - Реализуйте оба алгоритма с использованием генераторов\n",
    "   - Используйте match-case для обработки состояний\n",
    "\n",
    "3. **Алгоритм Дейкстры**\n",
    "   - Реализуйте поиск кратчайшего пути\n",
    "   - Используйте приоритетную очередь\n",
    "   - Добавьте валидацию входных данных\n",
    "\n",
    "### Задание 9.2: Работа с данными\n",
    "Создайте систему для обработки CSV файлов:\n",
    "\n",
    "1. **CSV Reader с валидацией**\n",
    "   - Читайте CSV файлы с обработкой ошибок\n",
    "   - Валидируйте данные по схеме\n",
    "   - Используйте генераторы для обработки больших файлов\n",
    "\n",
    "2. **Система фильтрации и агрегации**\n",
    "   - Фильтруйте данные по различным критериям\n",
    "   - Вычисляйте статистики (среднее, медиана, мода)\n",
    "   - Используйте функциональное программирование\n",
    "\n",
    "3. **Экспорт в различные форматы**\n",
    "   - Экспортируйте данные в JSON, XML\n",
    "   - Используйте декораторы для кэширования\n",
    "   - Логируйте все операции\n",
    "\n",
    "### Задание 9.3: Мини-фреймворк\n",
    "Создайте простой веб-фреймворк:\n",
    "\n",
    "1. **Роутинг**\n",
    "   - Система маршрутов с параметрами\n",
    "   - Используйте match-case для обработки URL\n",
    "   - Декораторы для регистрации маршрутов\n",
    "\n",
    "2. **Middleware система**\n",
    "   - Декораторы для аутентификации, логирования, кэширования\n",
    "   - Цепочка обработки запросов\n",
    "   - Обработка ошибок\n",
    "\n",
    "3. **Шаблонизатор**\n",
    "   - Простая система шаблонов\n",
    "   - Используйте генераторы для рендеринга\n",
    "   - Валидация шаблонов\n"
   ]
  },
  {
   "cell_type": "markdown",
   "metadata": {},
   "source": [
    "## РЕКОМЕНДАЦИИ ПО ВЫПОЛНЕНИЮ\n",
    "\n",
    "### Порядок изучения:\n",
    "1. **Начните с простых заданий** (1-3 разделы) для закрепления базовых концепций\n",
    "2. **Переходите к средним** (4-6 разделы) для понимания продвинутых возможностей\n",
    "3. **Завершите сложными проектами** (7-9 разделы) для интеграции всех знаний\n",
    "\n",
    "### Советы по выполнению:\n",
    "- **Используйте типизацию** - добавляйте type hints ко всем функциям и классам\n",
    "- **Пишите тесты** - создавайте простые тесты для проверки корректности\n",
    "- **Документируйте код** - добавляйте docstrings к функциям и классам\n",
    "- **Следуйте PEP 8** - соблюдайте стандарты стиля кода Python\n",
    "- **Используйте логирование** - добавляйте логи для отладки и мониторинга\n",
    "\n",
    "### Дополнительные ресурсы:\n",
    "- [Python Documentation](https://docs.python.org/3/)\n",
    "- [PEP 8 Style Guide](https://pep8.org/)\n",
    "- [Real Python Tutorials](https://realpython.com/)\n",
    "- [Python Type Hints](https://docs.python.org/3/library/typing.html)\n",
    "\n",
    "### Проверка знаний:\n",
    "После выполнения заданий убедитесь, что вы понимаете:\n",
    "- Когда использовать if-elif-else vs match-case\n",
    "- Различия между for и while циклами\n",
    "- Как правильно обрабатывать исключения\n",
    "- Преимущества генераторов перед обычными функциями\n",
    "- Принципы функционального программирования\n",
    "- Как создавать и использовать декораторы\n",
    "- Важность логирования в приложениях\n"
   ]
  },
  {
   "cell_type": "code",
   "execution_count": null,
   "metadata": {},
   "outputs": [],
   "source": [
    "# TODO:\n",
    "'''\n",
    "    написать пример с использованием лрукеша и фибоначии, \n",
    "    оставить задачу на имплементацию своей лрукеш обертки\n",
    "    оставить задачу на имплементацию дифференцирования по всем аргументам\n",
    "'''"
   ]
  }
 ],
 "metadata": {
  "kernelspec": {
   "display_name": "Python 3 (ipykernel)",
   "language": "python",
   "name": "python3"
  },
  "language_info": {
   "codemirror_mode": {
    "name": "ipython",
    "version": 3
   },
   "file_extension": ".py",
   "mimetype": "text/x-python",
   "name": "python",
   "nbconvert_exporter": "python",
   "pygments_lexer": "ipython3",
   "version": "3.12.3"
  }
 },
 "nbformat": 4,
 "nbformat_minor": 4
}
